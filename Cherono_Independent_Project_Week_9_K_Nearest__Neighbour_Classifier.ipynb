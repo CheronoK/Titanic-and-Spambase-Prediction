{
  "nbformat": 4,
  "nbformat_minor": 0,
  "metadata": {
    "colab": {
      "name": "Cherono_Independent_Project_Week_9_K_Nearest__Neighbour_Classifier",
      "provenance": [],
      "collapsed_sections": [
        "kLG2VTrnTvYL",
        "XecOwPNorl2W",
        "J4wfHZwQrs-t",
        "a9BPYqunry97",
        "7KMRBJ7zr9HD",
        "zSGyg6kWsBUl",
        "iUNbvIvnT7ep",
        "OI3P3YnHUEBk",
        "ckfufNrcUHeH",
        "6XC_g-zKxe-r",
        "FlBMxEDBUc9B",
        "rF2ABPsHUtbZ",
        "vTbdjSrhVIiT",
        "lQ2G4ZPDVOXE",
        "xrmHVMVsVS--",
        "HPQviDmNtta8",
        "qjFHK1CKty7o",
        "HSsicSdvt4Zs"
      ],
      "include_colab_link": true
    },
    "kernelspec": {
      "name": "python3",
      "display_name": "Python 3"
    }
  },
  "cells": [
    {
      "cell_type": "markdown",
      "metadata": {
        "id": "view-in-github",
        "colab_type": "text"
      },
      "source": [
        "<a href=\"https://colab.research.google.com/github/CheronoK/WEEK-9-IP/blob/master/Cherono_Independent_Project_Week_9_K_Nearest__Neighbour_Classifier.ipynb\" target=\"_parent\"><img src=\"https://colab.research.google.com/assets/colab-badge.svg\" alt=\"Open In Colab\"/></a>"
      ]
    },
    {
      "cell_type": "markdown",
      "metadata": {
        "id": "1qqgL4FTCh_2",
        "colab_type": "text"
      },
      "source": [
        "<font color=\"green\">*To start working on this notebook, or any other notebook that we will use in the Moringa Data Science Course, we will need to save our own copy of it. We can do this by clicking File > Save a Copy in Drive. We will then be able to make edits to our own copy of this notebook.*</font>"
      ]
    },
    {
      "cell_type": "markdown",
      "metadata": {
        "id": "xMxtPsqcTsSH",
        "colab_type": "text"
      },
      "source": [
        "# K-Nearest Neighbour Classifier"
      ]
    },
    {
      "cell_type": "markdown",
      "metadata": {
        "id": "kLG2VTrnTvYL",
        "colab_type": "text"
      },
      "source": [
        "## 1. Defining the Question"
      ]
    },
    {
      "cell_type": "markdown",
      "metadata": {
        "id": "XecOwPNorl2W",
        "colab_type": "text"
      },
      "source": [
        "### a) Specifying the Data Analytic Question"
      ]
    },
    {
      "cell_type": "markdown",
      "metadata": {
        "id": "9ozBnKfehSAw",
        "colab_type": "text"
      },
      "source": [
        "> This week's project requires us to implement a K-Nearest Neighbour(KNN) classifier on the provided dataset in order to classify what sorts of people were likely to survive the titanic."
      ]
    },
    {
      "cell_type": "markdown",
      "metadata": {
        "id": "J4wfHZwQrs-t",
        "colab_type": "text"
      },
      "source": [
        "### b) Defining the Metric for Success"
      ]
    },
    {
      "cell_type": "markdown",
      "metadata": {
        "id": "ezmDSz5pft5O",
        "colab_type": "text"
      },
      "source": [
        "\n",
        "\n",
        "> The metric for success will be the accuracy score for each model. A model with an accuracy of above 80% will be considered a good model.\n",
        "\n",
        "> We'll also use a confusion matrix for each of the models to evaluate it's performance. A model with a low number of false negatives and false positives will be considered a good model as this means that most of the positive and negative examples are correctly recognized.\n",
        "\n"
      ]
    },
    {
      "cell_type": "markdown",
      "metadata": {
        "id": "a9BPYqunry97",
        "colab_type": "text"
      },
      "source": [
        "### c) Understanding the context "
      ]
    },
    {
      "cell_type": "markdown",
      "metadata": {
        "id": "5eDZMmaH1LnH",
        "colab_type": "text"
      },
      "source": [
        "RMS Titanic was a British passenger liner operated by the White Star Line that sank in the North Atlantic Ocean in the early morning hours of 15 April 1912, after striking an iceberg during her maiden voyage from Southampton to New York City. \n",
        "\n",
        "Of the estimated 2,224 passengers and crew aboard, more than 1,500 died, making the sinking one of modern history's deadliest peacetime commercial marine disasters."
      ]
    },
    {
      "cell_type": "markdown",
      "metadata": {
        "id": "7KMRBJ7zr9HD",
        "colab_type": "text"
      },
      "source": [
        "### d) Recording the Experimental Design"
      ]
    },
    {
      "cell_type": "markdown",
      "metadata": {
        "id": "XBbJfo0BgECh",
        "colab_type": "text"
      },
      "source": [
        "\n",
        "The following are the steps taken to implement the solution :\n",
        "* Define the question, the metric for success, the context, experimental design taken.\n",
        "* Read and explore the given dataset.\n",
        "* Define the appropriateness of the available data to answer the given question.\n",
        "* Find and deal with outliers, anomalies, and missing data within the dataset.\n",
        "* Perform exploratory analysis recording our observations.\n",
        "* Build a baseline model to use as a benchmark for our model\n",
        "* Build a K-Nearest Neighbour Classifier Model using an 80-20 split as train and test respectively\n",
        "* Repeat the above step twice using 70-30 split and 60-40 split.\n",
        "* Optimize the model for better performance\n",
        "* Challenge our solution and give recommendations as to how we could improve the model performance.\n"
      ]
    },
    {
      "cell_type": "markdown",
      "metadata": {
        "id": "zSGyg6kWsBUl",
        "colab_type": "text"
      },
      "source": [
        "### e) Data Relevance"
      ]
    },
    {
      "cell_type": "markdown",
      "metadata": {
        "id": "TyI7_nOUgH4x",
        "colab_type": "text"
      },
      "source": [
        "The titanic data frames describe the survival status of individual passengers\n",
        "on the Titanic. The titanic data frame does not contain information from the crew, but it does contain actual ages of half of the passengers. \n",
        "\n",
        "Our dataset is therefore is very relevant in answering the given question."
      ]
    },
    {
      "cell_type": "markdown",
      "metadata": {
        "id": "iUNbvIvnT7ep",
        "colab_type": "text"
      },
      "source": [
        "## 2. Reading the Data"
      ]
    },
    {
      "cell_type": "markdown",
      "metadata": {
        "id": "SwKFey5IsMmD",
        "colab_type": "text"
      },
      "source": [
        "### a.) Import Libraries"
      ]
    },
    {
      "cell_type": "code",
      "metadata": {
        "id": "Sgf1N6dwsIzb",
        "colab_type": "code",
        "colab": {}
      },
      "source": [
        "import pandas as pd\n",
        "import numpy as np\n",
        "import matplotlib\n",
        "from matplotlib import pyplot as plt\n",
        "import seaborn as sns; sns.set(font_scale=1.2)\n",
        "from sklearn.neighbors import KNeighborsClassifier\n",
        "from sklearn.model_selection import train_test_split\n",
        "from sklearn.metrics import confusion_matrix\n",
        "from sklearn.metrics import accuracy_score"
      ],
      "execution_count": null,
      "outputs": []
    },
    {
      "cell_type": "markdown",
      "metadata": {
        "id": "vIW4xVkosSRj",
        "colab_type": "text"
      },
      "source": [
        "### b.) Loading the Dataset"
      ]
    },
    {
      "cell_type": "code",
      "metadata": {
        "id": "XJn2KjW-WMlG",
        "colab_type": "code",
        "colab": {}
      },
      "source": [
        "#Loading the Data from the source\n",
        "#Dataset source\n",
        "\n",
        "#Train Dataset = https://archive.org/download/train5_202002/train%20%285%29.csv\n",
        "#Test Dataset = https://archive.org/download/test1_202002/test%20%281%29.csv\n",
        "\n",
        "train = pd.read_csv('https://archive.org/download/train5_202002/train%20%285%29.csv')\n",
        "test = pd.read_csv('https://archive.org/download/test1_202002/test%20%281%29.csv')"
      ],
      "execution_count": 2,
      "outputs": []
    },
    {
      "cell_type": "markdown",
      "metadata": {
        "id": "OI3P3YnHUEBk",
        "colab_type": "text"
      },
      "source": [
        "\n",
        "\n",
        "## 3. Checking the Data"
      ]
    },
    {
      "cell_type": "code",
      "metadata": {
        "id": "YjSVNwgptHxY",
        "colab_type": "code",
        "colab": {
          "base_uri": "https://localhost:8080/",
          "height": 33
        },
        "outputId": "f9f30481-7f43-44e1-9599-77a7ef2781f9"
      },
      "source": [
        "#Determining the no. of records in our train dataset\n",
        "train.shape"
      ],
      "execution_count": 3,
      "outputs": [
        {
          "output_type": "execute_result",
          "data": {
            "text/plain": [
              "(891, 12)"
            ]
          },
          "metadata": {
            "tags": []
          },
          "execution_count": 3
        }
      ]
    },
    {
      "cell_type": "code",
      "metadata": {
        "id": "s3lmpmZqucim",
        "colab_type": "code",
        "colab": {
          "base_uri": "https://localhost:8080/",
          "height": 33
        },
        "outputId": "0a2fb14f-0ea0-431b-c9c6-74b02aeaf351"
      },
      "source": [
        "#Determining the no. of records in our test dataset\n",
        "test.shape"
      ],
      "execution_count": 4,
      "outputs": [
        {
          "output_type": "execute_result",
          "data": {
            "text/plain": [
              "(418, 11)"
            ]
          },
          "metadata": {
            "tags": []
          },
          "execution_count": 4
        }
      ]
    },
    {
      "cell_type": "markdown",
      "metadata": {
        "id": "3V3Fd0FYhk_c",
        "colab_type": "text"
      },
      "source": [
        "Our train dataset has 891 entries and 12 columns while the test dataset has 418 entries and 11 columns."
      ]
    },
    {
      "cell_type": "code",
      "metadata": {
        "id": "xHhTw5eKWr0n",
        "colab_type": "code",
        "colab": {
          "base_uri": "https://localhost:8080/",
          "height": 197
        },
        "outputId": "0fbb5724-8f6e-4c42-e6de-e57cea48cfeb"
      },
      "source": [
        "#Previewing the top of our train dataset\n",
        "train.head()"
      ],
      "execution_count": 5,
      "outputs": [
        {
          "output_type": "execute_result",
          "data": {
            "text/html": [
              "<div>\n",
              "<style scoped>\n",
              "    .dataframe tbody tr th:only-of-type {\n",
              "        vertical-align: middle;\n",
              "    }\n",
              "\n",
              "    .dataframe tbody tr th {\n",
              "        vertical-align: top;\n",
              "    }\n",
              "\n",
              "    .dataframe thead th {\n",
              "        text-align: right;\n",
              "    }\n",
              "</style>\n",
              "<table border=\"1\" class=\"dataframe\">\n",
              "  <thead>\n",
              "    <tr style=\"text-align: right;\">\n",
              "      <th></th>\n",
              "      <th>PassengerId</th>\n",
              "      <th>Survived</th>\n",
              "      <th>Pclass</th>\n",
              "      <th>Name</th>\n",
              "      <th>Sex</th>\n",
              "      <th>Age</th>\n",
              "      <th>SibSp</th>\n",
              "      <th>Parch</th>\n",
              "      <th>Ticket</th>\n",
              "      <th>Fare</th>\n",
              "      <th>Cabin</th>\n",
              "      <th>Embarked</th>\n",
              "    </tr>\n",
              "  </thead>\n",
              "  <tbody>\n",
              "    <tr>\n",
              "      <th>0</th>\n",
              "      <td>1</td>\n",
              "      <td>0</td>\n",
              "      <td>3</td>\n",
              "      <td>Braund, Mr. Owen Harris</td>\n",
              "      <td>male</td>\n",
              "      <td>22.0</td>\n",
              "      <td>1</td>\n",
              "      <td>0</td>\n",
              "      <td>A/5 21171</td>\n",
              "      <td>7.2500</td>\n",
              "      <td>NaN</td>\n",
              "      <td>S</td>\n",
              "    </tr>\n",
              "    <tr>\n",
              "      <th>1</th>\n",
              "      <td>2</td>\n",
              "      <td>1</td>\n",
              "      <td>1</td>\n",
              "      <td>Cumings, Mrs. John Bradley (Florence Briggs Th...</td>\n",
              "      <td>female</td>\n",
              "      <td>38.0</td>\n",
              "      <td>1</td>\n",
              "      <td>0</td>\n",
              "      <td>PC 17599</td>\n",
              "      <td>71.2833</td>\n",
              "      <td>C85</td>\n",
              "      <td>C</td>\n",
              "    </tr>\n",
              "    <tr>\n",
              "      <th>2</th>\n",
              "      <td>3</td>\n",
              "      <td>1</td>\n",
              "      <td>3</td>\n",
              "      <td>Heikkinen, Miss. Laina</td>\n",
              "      <td>female</td>\n",
              "      <td>26.0</td>\n",
              "      <td>0</td>\n",
              "      <td>0</td>\n",
              "      <td>STON/O2. 3101282</td>\n",
              "      <td>7.9250</td>\n",
              "      <td>NaN</td>\n",
              "      <td>S</td>\n",
              "    </tr>\n",
              "    <tr>\n",
              "      <th>3</th>\n",
              "      <td>4</td>\n",
              "      <td>1</td>\n",
              "      <td>1</td>\n",
              "      <td>Futrelle, Mrs. Jacques Heath (Lily May Peel)</td>\n",
              "      <td>female</td>\n",
              "      <td>35.0</td>\n",
              "      <td>1</td>\n",
              "      <td>0</td>\n",
              "      <td>113803</td>\n",
              "      <td>53.1000</td>\n",
              "      <td>C123</td>\n",
              "      <td>S</td>\n",
              "    </tr>\n",
              "    <tr>\n",
              "      <th>4</th>\n",
              "      <td>5</td>\n",
              "      <td>0</td>\n",
              "      <td>3</td>\n",
              "      <td>Allen, Mr. William Henry</td>\n",
              "      <td>male</td>\n",
              "      <td>35.0</td>\n",
              "      <td>0</td>\n",
              "      <td>0</td>\n",
              "      <td>373450</td>\n",
              "      <td>8.0500</td>\n",
              "      <td>NaN</td>\n",
              "      <td>S</td>\n",
              "    </tr>\n",
              "  </tbody>\n",
              "</table>\n",
              "</div>"
            ],
            "text/plain": [
              "   PassengerId  Survived  Pclass  ...     Fare Cabin  Embarked\n",
              "0            1         0       3  ...   7.2500   NaN         S\n",
              "1            2         1       1  ...  71.2833   C85         C\n",
              "2            3         1       3  ...   7.9250   NaN         S\n",
              "3            4         1       1  ...  53.1000  C123         S\n",
              "4            5         0       3  ...   8.0500   NaN         S\n",
              "\n",
              "[5 rows x 12 columns]"
            ]
          },
          "metadata": {
            "tags": []
          },
          "execution_count": 5
        }
      ]
    },
    {
      "cell_type": "code",
      "metadata": {
        "id": "Y1LQUzKJuC0Y",
        "colab_type": "code",
        "colab": {
          "base_uri": "https://localhost:8080/",
          "height": 197
        },
        "outputId": "11dc3bc0-802f-4c10-d80c-1be4bbc5c603"
      },
      "source": [
        "#Previewing the top of our test dataset\n",
        "test.head()"
      ],
      "execution_count": 6,
      "outputs": [
        {
          "output_type": "execute_result",
          "data": {
            "text/html": [
              "<div>\n",
              "<style scoped>\n",
              "    .dataframe tbody tr th:only-of-type {\n",
              "        vertical-align: middle;\n",
              "    }\n",
              "\n",
              "    .dataframe tbody tr th {\n",
              "        vertical-align: top;\n",
              "    }\n",
              "\n",
              "    .dataframe thead th {\n",
              "        text-align: right;\n",
              "    }\n",
              "</style>\n",
              "<table border=\"1\" class=\"dataframe\">\n",
              "  <thead>\n",
              "    <tr style=\"text-align: right;\">\n",
              "      <th></th>\n",
              "      <th>PassengerId</th>\n",
              "      <th>Pclass</th>\n",
              "      <th>Name</th>\n",
              "      <th>Sex</th>\n",
              "      <th>Age</th>\n",
              "      <th>SibSp</th>\n",
              "      <th>Parch</th>\n",
              "      <th>Ticket</th>\n",
              "      <th>Fare</th>\n",
              "      <th>Cabin</th>\n",
              "      <th>Embarked</th>\n",
              "    </tr>\n",
              "  </thead>\n",
              "  <tbody>\n",
              "    <tr>\n",
              "      <th>0</th>\n",
              "      <td>892</td>\n",
              "      <td>3</td>\n",
              "      <td>Kelly, Mr. James</td>\n",
              "      <td>male</td>\n",
              "      <td>34.5</td>\n",
              "      <td>0</td>\n",
              "      <td>0</td>\n",
              "      <td>330911</td>\n",
              "      <td>7.8292</td>\n",
              "      <td>NaN</td>\n",
              "      <td>Q</td>\n",
              "    </tr>\n",
              "    <tr>\n",
              "      <th>1</th>\n",
              "      <td>893</td>\n",
              "      <td>3</td>\n",
              "      <td>Wilkes, Mrs. James (Ellen Needs)</td>\n",
              "      <td>female</td>\n",
              "      <td>47.0</td>\n",
              "      <td>1</td>\n",
              "      <td>0</td>\n",
              "      <td>363272</td>\n",
              "      <td>7.0000</td>\n",
              "      <td>NaN</td>\n",
              "      <td>S</td>\n",
              "    </tr>\n",
              "    <tr>\n",
              "      <th>2</th>\n",
              "      <td>894</td>\n",
              "      <td>2</td>\n",
              "      <td>Myles, Mr. Thomas Francis</td>\n",
              "      <td>male</td>\n",
              "      <td>62.0</td>\n",
              "      <td>0</td>\n",
              "      <td>0</td>\n",
              "      <td>240276</td>\n",
              "      <td>9.6875</td>\n",
              "      <td>NaN</td>\n",
              "      <td>Q</td>\n",
              "    </tr>\n",
              "    <tr>\n",
              "      <th>3</th>\n",
              "      <td>895</td>\n",
              "      <td>3</td>\n",
              "      <td>Wirz, Mr. Albert</td>\n",
              "      <td>male</td>\n",
              "      <td>27.0</td>\n",
              "      <td>0</td>\n",
              "      <td>0</td>\n",
              "      <td>315154</td>\n",
              "      <td>8.6625</td>\n",
              "      <td>NaN</td>\n",
              "      <td>S</td>\n",
              "    </tr>\n",
              "    <tr>\n",
              "      <th>4</th>\n",
              "      <td>896</td>\n",
              "      <td>3</td>\n",
              "      <td>Hirvonen, Mrs. Alexander (Helga E Lindqvist)</td>\n",
              "      <td>female</td>\n",
              "      <td>22.0</td>\n",
              "      <td>1</td>\n",
              "      <td>1</td>\n",
              "      <td>3101298</td>\n",
              "      <td>12.2875</td>\n",
              "      <td>NaN</td>\n",
              "      <td>S</td>\n",
              "    </tr>\n",
              "  </tbody>\n",
              "</table>\n",
              "</div>"
            ],
            "text/plain": [
              "   PassengerId  Pclass  ... Cabin Embarked\n",
              "0          892       3  ...   NaN        Q\n",
              "1          893       3  ...   NaN        S\n",
              "2          894       2  ...   NaN        Q\n",
              "3          895       3  ...   NaN        S\n",
              "4          896       3  ...   NaN        S\n",
              "\n",
              "[5 rows x 11 columns]"
            ]
          },
          "metadata": {
            "tags": []
          },
          "execution_count": 6
        }
      ]
    },
    {
      "cell_type": "code",
      "metadata": {
        "id": "e9AzGcZFrIIr",
        "colab_type": "code",
        "colab": {
          "base_uri": "https://localhost:8080/",
          "height": 197
        },
        "outputId": "3293dd40-ee73-4d83-e196-27cb4744e5ba"
      },
      "source": [
        "#Previewing the bottom of our train dataset\n",
        "train.tail()"
      ],
      "execution_count": 7,
      "outputs": [
        {
          "output_type": "execute_result",
          "data": {
            "text/html": [
              "<div>\n",
              "<style scoped>\n",
              "    .dataframe tbody tr th:only-of-type {\n",
              "        vertical-align: middle;\n",
              "    }\n",
              "\n",
              "    .dataframe tbody tr th {\n",
              "        vertical-align: top;\n",
              "    }\n",
              "\n",
              "    .dataframe thead th {\n",
              "        text-align: right;\n",
              "    }\n",
              "</style>\n",
              "<table border=\"1\" class=\"dataframe\">\n",
              "  <thead>\n",
              "    <tr style=\"text-align: right;\">\n",
              "      <th></th>\n",
              "      <th>PassengerId</th>\n",
              "      <th>Survived</th>\n",
              "      <th>Pclass</th>\n",
              "      <th>Name</th>\n",
              "      <th>Sex</th>\n",
              "      <th>Age</th>\n",
              "      <th>SibSp</th>\n",
              "      <th>Parch</th>\n",
              "      <th>Ticket</th>\n",
              "      <th>Fare</th>\n",
              "      <th>Cabin</th>\n",
              "      <th>Embarked</th>\n",
              "    </tr>\n",
              "  </thead>\n",
              "  <tbody>\n",
              "    <tr>\n",
              "      <th>886</th>\n",
              "      <td>887</td>\n",
              "      <td>0</td>\n",
              "      <td>2</td>\n",
              "      <td>Montvila, Rev. Juozas</td>\n",
              "      <td>male</td>\n",
              "      <td>27.0</td>\n",
              "      <td>0</td>\n",
              "      <td>0</td>\n",
              "      <td>211536</td>\n",
              "      <td>13.00</td>\n",
              "      <td>NaN</td>\n",
              "      <td>S</td>\n",
              "    </tr>\n",
              "    <tr>\n",
              "      <th>887</th>\n",
              "      <td>888</td>\n",
              "      <td>1</td>\n",
              "      <td>1</td>\n",
              "      <td>Graham, Miss. Margaret Edith</td>\n",
              "      <td>female</td>\n",
              "      <td>19.0</td>\n",
              "      <td>0</td>\n",
              "      <td>0</td>\n",
              "      <td>112053</td>\n",
              "      <td>30.00</td>\n",
              "      <td>B42</td>\n",
              "      <td>S</td>\n",
              "    </tr>\n",
              "    <tr>\n",
              "      <th>888</th>\n",
              "      <td>889</td>\n",
              "      <td>0</td>\n",
              "      <td>3</td>\n",
              "      <td>Johnston, Miss. Catherine Helen \"Carrie\"</td>\n",
              "      <td>female</td>\n",
              "      <td>NaN</td>\n",
              "      <td>1</td>\n",
              "      <td>2</td>\n",
              "      <td>W./C. 6607</td>\n",
              "      <td>23.45</td>\n",
              "      <td>NaN</td>\n",
              "      <td>S</td>\n",
              "    </tr>\n",
              "    <tr>\n",
              "      <th>889</th>\n",
              "      <td>890</td>\n",
              "      <td>1</td>\n",
              "      <td>1</td>\n",
              "      <td>Behr, Mr. Karl Howell</td>\n",
              "      <td>male</td>\n",
              "      <td>26.0</td>\n",
              "      <td>0</td>\n",
              "      <td>0</td>\n",
              "      <td>111369</td>\n",
              "      <td>30.00</td>\n",
              "      <td>C148</td>\n",
              "      <td>C</td>\n",
              "    </tr>\n",
              "    <tr>\n",
              "      <th>890</th>\n",
              "      <td>891</td>\n",
              "      <td>0</td>\n",
              "      <td>3</td>\n",
              "      <td>Dooley, Mr. Patrick</td>\n",
              "      <td>male</td>\n",
              "      <td>32.0</td>\n",
              "      <td>0</td>\n",
              "      <td>0</td>\n",
              "      <td>370376</td>\n",
              "      <td>7.75</td>\n",
              "      <td>NaN</td>\n",
              "      <td>Q</td>\n",
              "    </tr>\n",
              "  </tbody>\n",
              "</table>\n",
              "</div>"
            ],
            "text/plain": [
              "     PassengerId  Survived  Pclass  ...   Fare Cabin  Embarked\n",
              "886          887         0       2  ...  13.00   NaN         S\n",
              "887          888         1       1  ...  30.00   B42         S\n",
              "888          889         0       3  ...  23.45   NaN         S\n",
              "889          890         1       1  ...  30.00  C148         C\n",
              "890          891         0       3  ...   7.75   NaN         Q\n",
              "\n",
              "[5 rows x 12 columns]"
            ]
          },
          "metadata": {
            "tags": []
          },
          "execution_count": 7
        }
      ]
    },
    {
      "cell_type": "code",
      "metadata": {
        "id": "geDGLOb2urDU",
        "colab_type": "code",
        "colab": {
          "base_uri": "https://localhost:8080/",
          "height": 197
        },
        "outputId": "97418f94-92a2-410f-dae3-588fc32e99da"
      },
      "source": [
        "#Previewing the bottom of our test dataset\n",
        "test.tail()"
      ],
      "execution_count": 8,
      "outputs": [
        {
          "output_type": "execute_result",
          "data": {
            "text/html": [
              "<div>\n",
              "<style scoped>\n",
              "    .dataframe tbody tr th:only-of-type {\n",
              "        vertical-align: middle;\n",
              "    }\n",
              "\n",
              "    .dataframe tbody tr th {\n",
              "        vertical-align: top;\n",
              "    }\n",
              "\n",
              "    .dataframe thead th {\n",
              "        text-align: right;\n",
              "    }\n",
              "</style>\n",
              "<table border=\"1\" class=\"dataframe\">\n",
              "  <thead>\n",
              "    <tr style=\"text-align: right;\">\n",
              "      <th></th>\n",
              "      <th>PassengerId</th>\n",
              "      <th>Pclass</th>\n",
              "      <th>Name</th>\n",
              "      <th>Sex</th>\n",
              "      <th>Age</th>\n",
              "      <th>SibSp</th>\n",
              "      <th>Parch</th>\n",
              "      <th>Ticket</th>\n",
              "      <th>Fare</th>\n",
              "      <th>Cabin</th>\n",
              "      <th>Embarked</th>\n",
              "    </tr>\n",
              "  </thead>\n",
              "  <tbody>\n",
              "    <tr>\n",
              "      <th>413</th>\n",
              "      <td>1305</td>\n",
              "      <td>3</td>\n",
              "      <td>Spector, Mr. Woolf</td>\n",
              "      <td>male</td>\n",
              "      <td>NaN</td>\n",
              "      <td>0</td>\n",
              "      <td>0</td>\n",
              "      <td>A.5. 3236</td>\n",
              "      <td>8.0500</td>\n",
              "      <td>NaN</td>\n",
              "      <td>S</td>\n",
              "    </tr>\n",
              "    <tr>\n",
              "      <th>414</th>\n",
              "      <td>1306</td>\n",
              "      <td>1</td>\n",
              "      <td>Oliva y Ocana, Dona. Fermina</td>\n",
              "      <td>female</td>\n",
              "      <td>39.0</td>\n",
              "      <td>0</td>\n",
              "      <td>0</td>\n",
              "      <td>PC 17758</td>\n",
              "      <td>108.9000</td>\n",
              "      <td>C105</td>\n",
              "      <td>C</td>\n",
              "    </tr>\n",
              "    <tr>\n",
              "      <th>415</th>\n",
              "      <td>1307</td>\n",
              "      <td>3</td>\n",
              "      <td>Saether, Mr. Simon Sivertsen</td>\n",
              "      <td>male</td>\n",
              "      <td>38.5</td>\n",
              "      <td>0</td>\n",
              "      <td>0</td>\n",
              "      <td>SOTON/O.Q. 3101262</td>\n",
              "      <td>7.2500</td>\n",
              "      <td>NaN</td>\n",
              "      <td>S</td>\n",
              "    </tr>\n",
              "    <tr>\n",
              "      <th>416</th>\n",
              "      <td>1308</td>\n",
              "      <td>3</td>\n",
              "      <td>Ware, Mr. Frederick</td>\n",
              "      <td>male</td>\n",
              "      <td>NaN</td>\n",
              "      <td>0</td>\n",
              "      <td>0</td>\n",
              "      <td>359309</td>\n",
              "      <td>8.0500</td>\n",
              "      <td>NaN</td>\n",
              "      <td>S</td>\n",
              "    </tr>\n",
              "    <tr>\n",
              "      <th>417</th>\n",
              "      <td>1309</td>\n",
              "      <td>3</td>\n",
              "      <td>Peter, Master. Michael J</td>\n",
              "      <td>male</td>\n",
              "      <td>NaN</td>\n",
              "      <td>1</td>\n",
              "      <td>1</td>\n",
              "      <td>2668</td>\n",
              "      <td>22.3583</td>\n",
              "      <td>NaN</td>\n",
              "      <td>C</td>\n",
              "    </tr>\n",
              "  </tbody>\n",
              "</table>\n",
              "</div>"
            ],
            "text/plain": [
              "     PassengerId  Pclass                          Name  ...      Fare  Cabin  Embarked\n",
              "413         1305       3            Spector, Mr. Woolf  ...    8.0500    NaN         S\n",
              "414         1306       1  Oliva y Ocana, Dona. Fermina  ...  108.9000   C105         C\n",
              "415         1307       3  Saether, Mr. Simon Sivertsen  ...    7.2500    NaN         S\n",
              "416         1308       3           Ware, Mr. Frederick  ...    8.0500    NaN         S\n",
              "417         1309       3      Peter, Master. Michael J  ...   22.3583    NaN         C\n",
              "\n",
              "[5 rows x 11 columns]"
            ]
          },
          "metadata": {
            "tags": []
          },
          "execution_count": 8
        }
      ]
    },
    {
      "cell_type": "markdown",
      "metadata": {
        "id": "kP61Z0yRvZWn",
        "colab_type": "text"
      },
      "source": [
        "From the above preview, we can tell that our datasets are the same i.e. they have the same attributes and where the train data ends is where the test data starts i.e. the 891st entry is the last entry of the train dataset whereas the test set starts at the 892nd entry. However, the test dataset has one less column i.e. it does not contain the dependent variable(the survival of the passengers)\n",
        "\n",
        "We'll therefore carry analysis and build models using our train dataset and later on use the test dataset to see how well our model performs on unseen data."
      ]
    },
    {
      "cell_type": "code",
      "metadata": {
        "id": "n8-dW4sQWzbc",
        "colab_type": "code",
        "colab": {
          "base_uri": "https://localhost:8080/",
          "height": 233
        },
        "outputId": "44ef87be-2812-4366-ca31-b186a8e9272e"
      },
      "source": [
        "#Checking whether each column has an appropriate datatype\n",
        "train.dtypes"
      ],
      "execution_count": 9,
      "outputs": [
        {
          "output_type": "execute_result",
          "data": {
            "text/plain": [
              "PassengerId      int64\n",
              "Survived         int64\n",
              "Pclass           int64\n",
              "Name            object\n",
              "Sex             object\n",
              "Age            float64\n",
              "SibSp            int64\n",
              "Parch            int64\n",
              "Ticket          object\n",
              "Fare           float64\n",
              "Cabin           object\n",
              "Embarked        object\n",
              "dtype: object"
            ]
          },
          "metadata": {
            "tags": []
          },
          "execution_count": 9
        }
      ]
    },
    {
      "cell_type": "markdown",
      "metadata": {
        "id": "bLfN8qjnmcRe",
        "colab_type": "text"
      },
      "source": [
        "Our train dataset has 2 floats,5 integer features and 5 are objects."
      ]
    },
    {
      "cell_type": "code",
      "metadata": {
        "id": "mjfP4_8Yx3O4",
        "colab_type": "code",
        "colab": {
          "base_uri": "https://localhost:8080/",
          "height": 233
        },
        "outputId": "03079205-b340-4569-9d5c-eacfd0167121"
      },
      "source": [
        "#Checking for unique values in dataset\n",
        "train.nunique()"
      ],
      "execution_count": 10,
      "outputs": [
        {
          "output_type": "execute_result",
          "data": {
            "text/plain": [
              "PassengerId    891\n",
              "Survived         2\n",
              "Pclass           3\n",
              "Name           891\n",
              "Sex              2\n",
              "Age             88\n",
              "SibSp            7\n",
              "Parch            7\n",
              "Ticket         681\n",
              "Fare           248\n",
              "Cabin          147\n",
              "Embarked         3\n",
              "dtype: int64"
            ]
          },
          "metadata": {
            "tags": []
          },
          "execution_count": 10
        }
      ]
    },
    {
      "cell_type": "markdown",
      "metadata": {
        "id": "o1YPq8sNm3x3",
        "colab_type": "text"
      },
      "source": [
        "The variables with fewer uniques values are categorical with each categorizing the datasets into different categories."
      ]
    },
    {
      "cell_type": "code",
      "metadata": {
        "id": "h7jLIJ27x58c",
        "colab_type": "code",
        "colab": {
          "base_uri": "https://localhost:8080/",
          "height": 233
        },
        "outputId": "54ae342e-3845-4e44-9afb-ed672f0f7f1b"
      },
      "source": [
        "#Checking for null values in our dataset\n",
        "train.isnull().sum()"
      ],
      "execution_count": 11,
      "outputs": [
        {
          "output_type": "execute_result",
          "data": {
            "text/plain": [
              "PassengerId      0\n",
              "Survived         0\n",
              "Pclass           0\n",
              "Name             0\n",
              "Sex              0\n",
              "Age            177\n",
              "SibSp            0\n",
              "Parch            0\n",
              "Ticket           0\n",
              "Fare             0\n",
              "Cabin          687\n",
              "Embarked         2\n",
              "dtype: int64"
            ]
          },
          "metadata": {
            "tags": []
          },
          "execution_count": 11
        }
      ]
    },
    {
      "cell_type": "markdown",
      "metadata": {
        "id": "ayCbMLqznVNh",
        "colab_type": "text"
      },
      "source": [
        "Most of the features do not have null values. However, there are null values in the age, cabin and Embarked columns. \n",
        "\n",
        "The cabin variable has so many null values, we'll therefore drop this column. \n",
        "\n",
        "The Age variable seems like an important feature in predicting the survival of a passenger. We'll therefore fill in the missing values later on.\n",
        "\n",
        "The Embarked variable also has only 2 null values, we'll drop those missing values as they are few. "
      ]
    },
    {
      "cell_type": "code",
      "metadata": {
        "id": "j_jXdCmbx8hb",
        "colab_type": "code",
        "colab": {
          "base_uri": "https://localhost:8080/",
          "height": 33
        },
        "outputId": "1b20c908-ebce-4e96-b722-1be058a1fed8"
      },
      "source": [
        "#Checking for duplicated rows\n",
        "train.duplicated().any()"
      ],
      "execution_count": 12,
      "outputs": [
        {
          "output_type": "execute_result",
          "data": {
            "text/plain": [
              "False"
            ]
          },
          "metadata": {
            "tags": []
          },
          "execution_count": 12
        }
      ]
    },
    {
      "cell_type": "markdown",
      "metadata": {
        "id": "zhIeBcy4oe21",
        "colab_type": "text"
      },
      "source": [
        "We do not have any duplicated entries in our dataset."
      ]
    },
    {
      "cell_type": "code",
      "metadata": {
        "id": "ukGjS61wx0O-",
        "colab_type": "code",
        "colab": {
          "base_uri": "https://localhost:8080/",
          "height": 67
        },
        "outputId": "6aad73c3-6d91-473c-efe3-a5b3abcbad96"
      },
      "source": [
        "#Checking the columns in the dataset\n",
        "train.columns"
      ],
      "execution_count": 13,
      "outputs": [
        {
          "output_type": "execute_result",
          "data": {
            "text/plain": [
              "Index(['PassengerId', 'Survived', 'Pclass', 'Name', 'Sex', 'Age', 'SibSp',\n",
              "       'Parch', 'Ticket', 'Fare', 'Cabin', 'Embarked'],\n",
              "      dtype='object')"
            ]
          },
          "metadata": {
            "tags": []
          },
          "execution_count": 13
        }
      ]
    },
    {
      "cell_type": "code",
      "metadata": {
        "id": "cYa0Y0fRx_W3",
        "colab_type": "code",
        "colab": {
          "base_uri": "https://localhost:8080/",
          "height": 333
        },
        "outputId": "a817aff4-27b6-4e7e-b4d9-7b03ec7f77b2"
      },
      "source": [
        "#Checking for the general information of the dataset\n",
        "train.info()"
      ],
      "execution_count": 14,
      "outputs": [
        {
          "output_type": "stream",
          "text": [
            "<class 'pandas.core.frame.DataFrame'>\n",
            "RangeIndex: 891 entries, 0 to 890\n",
            "Data columns (total 12 columns):\n",
            " #   Column       Non-Null Count  Dtype  \n",
            "---  ------       --------------  -----  \n",
            " 0   PassengerId  891 non-null    int64  \n",
            " 1   Survived     891 non-null    int64  \n",
            " 2   Pclass       891 non-null    int64  \n",
            " 3   Name         891 non-null    object \n",
            " 4   Sex          891 non-null    object \n",
            " 5   Age          714 non-null    float64\n",
            " 6   SibSp        891 non-null    int64  \n",
            " 7   Parch        891 non-null    int64  \n",
            " 8   Ticket       891 non-null    object \n",
            " 9   Fare         891 non-null    float64\n",
            " 10  Cabin        204 non-null    object \n",
            " 11  Embarked     889 non-null    object \n",
            "dtypes: float64(2), int64(5), object(5)\n",
            "memory usage: 83.7+ KB\n"
          ],
          "name": "stdout"
        }
      ]
    },
    {
      "cell_type": "markdown",
      "metadata": {
        "id": "OwYP4d0jk_uc",
        "colab_type": "text"
      },
      "source": [
        "> Below is a description of each of the variables in our dataset;\n",
        " \n",
        "* PassengerId: Unique Id of a passenger\n",
        "* Survived: Survival (0 = No; 1 = Yes)\n",
        "* pclass: Ticket class (1 = 1st; 2 = 2nd; 3 = 3rd)     \n",
        "* sex: Sex   \n",
        "* Name: The name of the passenger  \n",
        "* Age: Age in years     \n",
        "* Sibsp: Number of siblings/Spouses aboard the Titanic     \n",
        "* Parch: Number of parents/Children aboard the Titanic     \n",
        "* Ticket: Ticket number     \n",
        "* Fare: Passenger fare (British pound)   \n",
        "* Cabin: Cabin number     \n",
        "* Embarked: Port of Embarkation (C = Cherbourg; Q = Queenstown; S = Southampton)"
      ]
    },
    {
      "cell_type": "markdown",
      "metadata": {
        "id": "ckfufNrcUHeH",
        "colab_type": "text"
      },
      "source": [
        "## 4. External Data Source Validation"
      ]
    },
    {
      "cell_type": "markdown",
      "metadata": {
        "id": "6L4sl_0WXlbg",
        "colab_type": "text"
      },
      "source": [
        "The titanic dataset is a very common dataset used by many Data Scientists. \n",
        "\n",
        "The principal source of data about Titanic passengers is the Encyclopedia Titanica. The datasets used here were begun by a variety of researchers. One of the original sources is Eaton & Haas (1994) Titanic: Triumph and Tragedy, Patrick Stephens Ltd, which includes a passenger list created by many researchers."
      ]
    },
    {
      "cell_type": "markdown",
      "metadata": {
        "id": "FlBMxEDBUc9B",
        "colab_type": "text"
      },
      "source": [
        "## 5. Tidying the Dataset"
      ]
    },
    {
      "cell_type": "markdown",
      "metadata": {
        "id": "OKDlUYvOp8Tc",
        "colab_type": "text"
      },
      "source": [
        "### a.) Null values"
      ]
    },
    {
      "cell_type": "markdown",
      "metadata": {
        "id": "uEhaKWTaqDah",
        "colab_type": "text"
      },
      "source": [
        "As had mentioned earlier, we're going to drop the cabin column. In addition to the cabin column, we'll also drop other irrelevant columns that aren't relevant for predicting survival. These columns are the passenger ID, Name of the passenger and the ticket number."
      ]
    },
    {
      "cell_type": "code",
      "metadata": {
        "id": "5o_bQcT5W3Wz",
        "colab_type": "code",
        "colab": {
          "base_uri": "https://localhost:8080/",
          "height": 67
        },
        "outputId": "fc263936-e690-4ab3-9c0e-9c5abeae932f"
      },
      "source": [
        "#Dropping irrelevant columns\n",
        "train.drop(['PassengerId','Name','Ticket','Cabin'], axis=1, inplace=True)\n",
        "train.columns"
      ],
      "execution_count": 15,
      "outputs": [
        {
          "output_type": "execute_result",
          "data": {
            "text/plain": [
              "Index(['Survived', 'Pclass', 'Sex', 'Age', 'SibSp', 'Parch', 'Fare',\n",
              "       'Embarked'],\n",
              "      dtype='object')"
            ]
          },
          "metadata": {
            "tags": []
          },
          "execution_count": 15
        }
      ]
    },
    {
      "cell_type": "markdown",
      "metadata": {
        "id": "2lVkdTnjrH9U",
        "colab_type": "text"
      },
      "source": [
        "Now that we've dropped irrelevant columns, we'll go ahead and fill in missing values in age and embarked columns."
      ]
    },
    {
      "cell_type": "code",
      "metadata": {
        "id": "PWlukLKUvFQN",
        "colab_type": "code",
        "colab": {
          "base_uri": "https://localhost:8080/",
          "height": 306
        },
        "outputId": "49e8cd82-665a-43ff-f988-8fd90f15acc1"
      },
      "source": [
        "#Looking at how passenger age is related to their class as a passenger on the boat \n",
        "#We'll plot a box plot to visualize this relationship\n",
        "sns.boxplot(x='Pclass', y='Age', data=train, palette='hls')"
      ],
      "execution_count": 16,
      "outputs": [
        {
          "output_type": "execute_result",
          "data": {
            "text/plain": [
              "<matplotlib.axes._subplots.AxesSubplot at 0x7fa6b2dc9e80>"
            ]
          },
          "metadata": {
            "tags": []
          },
          "execution_count": 16
        },
        {
          "output_type": "display_data",
          "data": {
            "image/png": "[encoded data removed]",
            "text/plain": [
              "<Figure size 432x288 with 1 Axes>"
            ]
          },
          "metadata": {
            "tags": [],
            "needs_background": "light"
          }
        }
      ]
    },
    {
      "cell_type": "markdown",
      "metadata": {
        "id": "CzpkZ2q8rr5L",
        "colab_type": "text"
      },
      "source": [
        "From the above, we could conclude that the younger a passenger is, the more likely it is for them to be in 3rd class. \n",
        "The older a passenger is, the more likely it is for them to be in 1st class.\n",
        "So there is a loose relationship between these variables.\n",
        "\n",
        "Therefore we'll write a function that approximates a passengers age, based on their class. \n",
        "From the box plot, it looks like the average age of 1st class passengers is about 37, 2nd class passengers is 29, and 3rd class pasengers is 24."
      ]
    },
    {
      "cell_type": "code",
      "metadata": {
        "id": "PvCYb6dgW4yh",
        "colab_type": "code",
        "colab": {}
      },
      "source": [
        "#So let's write a function that finds each null value in the Age variable \n",
        "#And for each null,checks the value of the Pclass and assigns an age value according to the average age of passengers in that class.\n",
        "def age_approx(cols):\n",
        "    Age = cols[0]\n",
        "    Pclass = cols[1]\n",
        "    \n",
        "    if pd.isnull(Age):\n",
        "        if Pclass == 1:\n",
        "            return 37\n",
        "        elif Pclass == 2:\n",
        "            return 29\n",
        "        else:\n",
        "            return 24\n",
        "    else:\n",
        "        return Age"
      ],
      "execution_count": 18,
      "outputs": []
    },
    {
      "cell_type": "code",
      "metadata": {
        "id": "MpsDGKZHsf_W",
        "colab_type": "code",
        "colab": {
          "base_uri": "https://localhost:8080/",
          "height": 167
        },
        "outputId": "60096f8e-db45-481f-94fb-28cce9db5667"
      },
      "source": [
        "#We then apply the function and check again for null values\n",
        "train['Age'] = train[['Age', 'Pclass']].apply(age_approx, axis=1)\n",
        "train.isnull().sum()"
      ],
      "execution_count": 19,
      "outputs": [
        {
          "output_type": "execute_result",
          "data": {
            "text/plain": [
              "Survived    0\n",
              "Pclass      0\n",
              "Sex         0\n",
              "Age         0\n",
              "SibSp       0\n",
              "Parch       0\n",
              "Fare        0\n",
              "Embarked    2\n",
              "dtype: int64"
            ]
          },
          "metadata": {
            "tags": []
          },
          "execution_count": 19
        }
      ]
    },
    {
      "cell_type": "markdown",
      "metadata": {
        "id": "YzUBe32qsxfL",
        "colab_type": "text"
      },
      "source": [
        "Our age variable now does not have null values. Only the Embarked has 2 null values. We'll go ahead and drop the 2 null values as they are very few."
      ]
    },
    {
      "cell_type": "code",
      "metadata": {
        "id": "D-4I__6Os4C5",
        "colab_type": "code",
        "colab": {
          "base_uri": "https://localhost:8080/",
          "height": 167
        },
        "outputId": "bf87eb10-0bb4-4efe-eed8-6b53d4cb73a8"
      },
      "source": [
        "#Dropping the remaining null values\n",
        "train2 = train.dropna()\n",
        "train2.isnull().sum()"
      ],
      "execution_count": 20,
      "outputs": [
        {
          "output_type": "execute_result",
          "data": {
            "text/plain": [
              "Survived    0\n",
              "Pclass      0\n",
              "Sex         0\n",
              "Age         0\n",
              "SibSp       0\n",
              "Parch       0\n",
              "Fare        0\n",
              "Embarked    0\n",
              "dtype: int64"
            ]
          },
          "metadata": {
            "tags": []
          },
          "execution_count": 20
        }
      ]
    },
    {
      "cell_type": "markdown",
      "metadata": {
        "id": "QpvvyD5gtf2w",
        "colab_type": "text"
      },
      "source": [
        "All null values have been sorted, we therefore have a dataset free of the null values.\n",
        "\n",
        "We'll do the same to the test dataset as we'll later on use the test dataset to see how well our model performs on unseen data."
      ]
    },
    {
      "cell_type": "code",
      "metadata": {
        "id": "TM5VxKYwtzFR",
        "colab_type": "code",
        "colab": {
          "base_uri": "https://localhost:8080/",
          "height": 217
        },
        "outputId": "5f9b2b29-8bca-49e4-ce21-824b02a578a9"
      },
      "source": [
        "#Let's first check the null values in our test dataset\n",
        "test.isnull().sum()"
      ],
      "execution_count": 21,
      "outputs": [
        {
          "output_type": "execute_result",
          "data": {
            "text/plain": [
              "PassengerId      0\n",
              "Pclass           0\n",
              "Name             0\n",
              "Sex              0\n",
              "Age             86\n",
              "SibSp            0\n",
              "Parch            0\n",
              "Ticket           0\n",
              "Fare             1\n",
              "Cabin          327\n",
              "Embarked         0\n",
              "dtype: int64"
            ]
          },
          "metadata": {
            "tags": []
          },
          "execution_count": 21
        }
      ]
    },
    {
      "cell_type": "markdown",
      "metadata": {
        "id": "eSXCbgIAuWpf",
        "colab_type": "text"
      },
      "source": [
        "Our test dataset, just like the train, has plenty of null values in the cabin column and some in the age column and only one null in the fare column.\n",
        "\n",
        "We'll do the same procedure we conducted on the train set; drop the cabin and other irrelevant columns then fill in missing values of age and drop the null value in the fare column."
      ]
    },
    {
      "cell_type": "code",
      "metadata": {
        "id": "ghK2s2Xavjh4",
        "colab_type": "code",
        "colab": {
          "base_uri": "https://localhost:8080/",
          "height": 33
        },
        "outputId": "d8ddc6a0-df6c-4a75-edb1-f35779362a0e"
      },
      "source": [
        "#Dropping irrelevant columns\n",
        "test.drop(['PassengerId','Name','Ticket','Cabin'], axis=1, inplace=True)\n",
        "test.columns"
      ],
      "execution_count": 22,
      "outputs": [
        {
          "output_type": "execute_result",
          "data": {
            "text/plain": [
              "Index(['Pclass', 'Sex', 'Age', 'SibSp', 'Parch', 'Fare', 'Embarked'], dtype='object')"
            ]
          },
          "metadata": {
            "tags": []
          },
          "execution_count": 22
        }
      ]
    },
    {
      "cell_type": "code",
      "metadata": {
        "id": "S-iLvxt_u5Xm",
        "colab_type": "code",
        "colab": {
          "base_uri": "https://localhost:8080/",
          "height": 306
        },
        "outputId": "1edc89bb-7346-4910-bad4-b439332fa5e8"
      },
      "source": [
        "#Looking at how passenger age is related to their class as a passenger on the boat \n",
        "#We'll plot a box plot to visualize this relationship\n",
        "sns.boxplot(x='Pclass', y='Age', data=test, palette='hls')"
      ],
      "execution_count": 23,
      "outputs": [
        {
          "output_type": "execute_result",
          "data": {
            "text/plain": [
              "<matplotlib.axes._subplots.AxesSubplot at 0x7fa6b2cc9860>"
            ]
          },
          "metadata": {
            "tags": []
          },
          "execution_count": 23
        },
        {
          "output_type": "display_data",
          "data": {
            "image/png": "[encoded data removed]",
            "text/plain": [
              "<Figure size 432x288 with 1 Axes>"
            ]
          },
          "metadata": {
            "tags": [],
            "needs_background": "light"
          }
        }
      ]
    },
    {
      "cell_type": "markdown",
      "metadata": {
        "id": "tXySUBPCvCtj",
        "colab_type": "text"
      },
      "source": [
        "From the above, we could conclude that the younger a passenger is, the more likely it is for them to be in 3rd class. \n",
        "The older a passenger is, the more likely it is for them to be in 1st class. Just like in the train dataset.\n",
        "\n",
        "Therefore, there is a loose relationship between these variables.\n",
        "\n",
        "We'll write a function that approximates a passengers age, based on their class. \n",
        "From the box plot, it looks like the average age of 1st class passengers is about 42, 2nd class passengers is 27, and 3rd class pasengers is 24."
      ]
    },
    {
      "cell_type": "code",
      "metadata": {
        "id": "7KxOCGVGvfhd",
        "colab_type": "code",
        "colab": {}
      },
      "source": [
        "#So let's write a function that finds each null value in the Age variable \n",
        "#And for each null,checks the value of the Pclass and assigns an age value according to the average age of passengers in that class.\n",
        "def age_approx(cols):\n",
        "    Age = cols[0]\n",
        "    Pclass = cols[1]\n",
        "    \n",
        "    if pd.isnull(Age):\n",
        "        if Pclass == 1:\n",
        "            return 42\n",
        "        elif Pclass == 2:\n",
        "            return 27\n",
        "        else:\n",
        "            return 24\n",
        "    else:\n",
        "        return Age"
      ],
      "execution_count": 24,
      "outputs": []
    },
    {
      "cell_type": "code",
      "metadata": {
        "id": "bXQD1PVQv3D1",
        "colab_type": "code",
        "colab": {
          "base_uri": "https://localhost:8080/",
          "height": 150
        },
        "outputId": "6fc6403e-7d95-4b9c-b873-4a47999f0153"
      },
      "source": [
        "#We then apply the function and check again for null values\n",
        "test['Age'] = train[['Age', 'Pclass']].apply(age_approx, axis=1)\n",
        "test.isnull().sum()"
      ],
      "execution_count": 25,
      "outputs": [
        {
          "output_type": "execute_result",
          "data": {
            "text/plain": [
              "Pclass      0\n",
              "Sex         0\n",
              "Age         0\n",
              "SibSp       0\n",
              "Parch       0\n",
              "Fare        1\n",
              "Embarked    0\n",
              "dtype: int64"
            ]
          },
          "metadata": {
            "tags": []
          },
          "execution_count": 25
        }
      ]
    },
    {
      "cell_type": "markdown",
      "metadata": {
        "id": "nrpkM-xfwOWH",
        "colab_type": "text"
      },
      "source": [
        "Our age variable now does not have null values. Only the Fare has only 1 null value. We'll go ahead and drop the null value as it is only one"
      ]
    },
    {
      "cell_type": "code",
      "metadata": {
        "id": "ph_vapvFwHU9",
        "colab_type": "code",
        "colab": {
          "base_uri": "https://localhost:8080/",
          "height": 150
        },
        "outputId": "b7957251-5448-4ac8-a7a0-8beddc0272fa"
      },
      "source": [
        "#Dropping the remaining null values\n",
        "test2 = test.dropna()\n",
        "test2.isnull().sum()"
      ],
      "execution_count": 26,
      "outputs": [
        {
          "output_type": "execute_result",
          "data": {
            "text/plain": [
              "Pclass      0\n",
              "Sex         0\n",
              "Age         0\n",
              "SibSp       0\n",
              "Parch       0\n",
              "Fare        0\n",
              "Embarked    0\n",
              "dtype: int64"
            ]
          },
          "metadata": {
            "tags": []
          },
          "execution_count": 26
        }
      ]
    },
    {
      "cell_type": "markdown",
      "metadata": {
        "id": "xHxZX1SZwZ0K",
        "colab_type": "text"
      },
      "source": [
        "All null values have been sorted, we therefore have a test set free of the null values."
      ]
    },
    {
      "cell_type": "code",
      "metadata": {
        "id": "dDcexb-rXUL_",
        "colab_type": "code",
        "colab": {
          "base_uri": "https://localhost:8080/",
          "height": 67
        },
        "outputId": "641119b0-0f53-42d2-bf11-2f9c3bdcbe21"
      },
      "source": [
        "train2.columns"
      ],
      "execution_count": 27,
      "outputs": [
        {
          "output_type": "execute_result",
          "data": {
            "text/plain": [
              "Index(['Survived', 'Pclass', 'Sex', 'Age', 'SibSp', 'Parch', 'Fare',\n",
              "       'Embarked'],\n",
              "      dtype='object')"
            ]
          },
          "metadata": {
            "tags": []
          },
          "execution_count": 27
        }
      ]
    },
    {
      "cell_type": "markdown",
      "metadata": {
        "id": "LNRs88fswuH1",
        "colab_type": "text"
      },
      "source": [
        "### b.) Encoding categorical features"
      ]
    },
    {
      "cell_type": "markdown",
      "metadata": {
        "id": "IN1QEqZQxvPb",
        "colab_type": "text"
      },
      "source": [
        "Our dataset has 2 categorical features i.e. the Sex and Embarked which we need to encode them as numerical variables.\n",
        "We'll do this using the Label Encoder which only works on categorical features."
      ]
    },
    {
      "cell_type": "code",
      "metadata": {
        "id": "4ZYMsCFXwqpe",
        "colab_type": "code",
        "colab": {
          "base_uri": "https://localhost:8080/",
          "height": 167
        },
        "outputId": "b6bd42a6-ad06-4bda-fd3f-40e200c45ea5"
      },
      "source": [
        "#Let's check the variables with the object data type as those are the categorical features\n",
        "train2.dtypes"
      ],
      "execution_count": 28,
      "outputs": [
        {
          "output_type": "execute_result",
          "data": {
            "text/plain": [
              "Survived      int64\n",
              "Pclass        int64\n",
              "Sex          object\n",
              "Age         float64\n",
              "SibSp         int64\n",
              "Parch         int64\n",
              "Fare        float64\n",
              "Embarked     object\n",
              "dtype: object"
            ]
          },
          "metadata": {
            "tags": []
          },
          "execution_count": 28
        }
      ]
    },
    {
      "cell_type": "markdown",
      "metadata": {
        "id": "jdXLPBXYy792",
        "colab_type": "text"
      },
      "source": [
        "The sex and Embarked features are the categorical features we need to encode."
      ]
    },
    {
      "cell_type": "code",
      "metadata": {
        "id": "h6EQ7PrWzKAr",
        "colab_type": "code",
        "colab": {}
      },
      "source": [
        "#We'll first extract the categorial featuers using boolean mask\n",
        "\n",
        "#Categorical boolean mask\n",
        "categorical_feature_mask = train2.dtypes==object\n",
        "# filter categorical columns using mask and turn it into a list\n",
        "categorical_cols = train2.columns[categorical_feature_mask].tolist()"
      ],
      "execution_count": 29,
      "outputs": []
    },
    {
      "cell_type": "code",
      "metadata": {
        "id": "xg8eofk02CHm",
        "colab_type": "code",
        "colab": {
          "base_uri": "https://localhost:8080/",
          "height": 347
        },
        "outputId": "830173df-5037-40d9-c832-d5d4e8013f84"
      },
      "source": [
        "#Importing warnings in order to ignore them when printing out the output\n",
        "import warnings\n",
        "warnings.filterwarnings(\"ignore\")\n",
        "#Encoding categorical features using label encoder\n",
        "\n",
        "#Importing labelencoder\n",
        "from sklearn.preprocessing import LabelEncoder\n",
        "\n",
        "#Instantiating labelencoder object\n",
        "le = LabelEncoder()\n",
        "\n",
        "#Applying le on categorical feature columns\n",
        "train2[categorical_cols] = train2[categorical_cols].apply(lambda col: le.fit_transform(col))\n",
        "train2[categorical_cols].head(10)"
      ],
      "execution_count": 30,
      "outputs": [
        {
          "output_type": "execute_result",
          "data": {
            "text/html": [
              "<div>\n",
              "<style scoped>\n",
              "    .dataframe tbody tr th:only-of-type {\n",
              "        vertical-align: middle;\n",
              "    }\n",
              "\n",
              "    .dataframe tbody tr th {\n",
              "        vertical-align: top;\n",
              "    }\n",
              "\n",
              "    .dataframe thead th {\n",
              "        text-align: right;\n",
              "    }\n",
              "</style>\n",
              "<table border=\"1\" class=\"dataframe\">\n",
              "  <thead>\n",
              "    <tr style=\"text-align: right;\">\n",
              "      <th></th>\n",
              "      <th>Sex</th>\n",
              "      <th>Embarked</th>\n",
              "    </tr>\n",
              "  </thead>\n",
              "  <tbody>\n",
              "    <tr>\n",
              "      <th>0</th>\n",
              "      <td>1</td>\n",
              "      <td>2</td>\n",
              "    </tr>\n",
              "    <tr>\n",
              "      <th>1</th>\n",
              "      <td>0</td>\n",
              "      <td>0</td>\n",
              "    </tr>\n",
              "    <tr>\n",
              "      <th>2</th>\n",
              "      <td>0</td>\n",
              "      <td>2</td>\n",
              "    </tr>\n",
              "    <tr>\n",
              "      <th>3</th>\n",
              "      <td>0</td>\n",
              "      <td>2</td>\n",
              "    </tr>\n",
              "    <tr>\n",
              "      <th>4</th>\n",
              "      <td>1</td>\n",
              "      <td>2</td>\n",
              "    </tr>\n",
              "    <tr>\n",
              "      <th>5</th>\n",
              "      <td>1</td>\n",
              "      <td>1</td>\n",
              "    </tr>\n",
              "    <tr>\n",
              "      <th>6</th>\n",
              "      <td>1</td>\n",
              "      <td>2</td>\n",
              "    </tr>\n",
              "    <tr>\n",
              "      <th>7</th>\n",
              "      <td>1</td>\n",
              "      <td>2</td>\n",
              "    </tr>\n",
              "    <tr>\n",
              "      <th>8</th>\n",
              "      <td>0</td>\n",
              "      <td>2</td>\n",
              "    </tr>\n",
              "    <tr>\n",
              "      <th>9</th>\n",
              "      <td>0</td>\n",
              "      <td>0</td>\n",
              "    </tr>\n",
              "  </tbody>\n",
              "</table>\n",
              "</div>"
            ],
            "text/plain": [
              "   Sex  Embarked\n",
              "0    1         2\n",
              "1    0         0\n",
              "2    0         2\n",
              "3    0         2\n",
              "4    1         2\n",
              "5    1         1\n",
              "6    1         2\n",
              "7    1         2\n",
              "8    0         2\n",
              "9    0         0"
            ]
          },
          "metadata": {
            "tags": []
          },
          "execution_count": 30
        }
      ]
    },
    {
      "cell_type": "markdown",
      "metadata": {
        "id": "oSfUFSoa0LvR",
        "colab_type": "text"
      },
      "source": [
        "From the above, we could see that the categorical features have been encoded.\n",
        "The sex column has 0 and 1 numerical values; 0 for female and 1 for male.\n",
        "The Embarked column as well has 0, 1 and 2 numerical values; 0 for C (Cherbourg), 1 for Q (Queenstown) and 2 for S (Southampton)"
      ]
    },
    {
      "cell_type": "code",
      "metadata": {
        "id": "Trww-Is-0CGE",
        "colab_type": "code",
        "colab": {
          "base_uri": "https://localhost:8080/",
          "height": 197
        },
        "outputId": "20613d56-06df-4566-de49-25aa34a41c0b"
      },
      "source": [
        "#Let's preview the top of our now encoded dataset\n",
        "train2.head()"
      ],
      "execution_count": 31,
      "outputs": [
        {
          "output_type": "execute_result",
          "data": {
            "text/html": [
              "<div>\n",
              "<style scoped>\n",
              "    .dataframe tbody tr th:only-of-type {\n",
              "        vertical-align: middle;\n",
              "    }\n",
              "\n",
              "    .dataframe tbody tr th {\n",
              "        vertical-align: top;\n",
              "    }\n",
              "\n",
              "    .dataframe thead th {\n",
              "        text-align: right;\n",
              "    }\n",
              "</style>\n",
              "<table border=\"1\" class=\"dataframe\">\n",
              "  <thead>\n",
              "    <tr style=\"text-align: right;\">\n",
              "      <th></th>\n",
              "      <th>Survived</th>\n",
              "      <th>Pclass</th>\n",
              "      <th>Sex</th>\n",
              "      <th>Age</th>\n",
              "      <th>SibSp</th>\n",
              "      <th>Parch</th>\n",
              "      <th>Fare</th>\n",
              "      <th>Embarked</th>\n",
              "    </tr>\n",
              "  </thead>\n",
              "  <tbody>\n",
              "    <tr>\n",
              "      <th>0</th>\n",
              "      <td>0</td>\n",
              "      <td>3</td>\n",
              "      <td>1</td>\n",
              "      <td>22.0</td>\n",
              "      <td>1</td>\n",
              "      <td>0</td>\n",
              "      <td>7.2500</td>\n",
              "      <td>2</td>\n",
              "    </tr>\n",
              "    <tr>\n",
              "      <th>1</th>\n",
              "      <td>1</td>\n",
              "      <td>1</td>\n",
              "      <td>0</td>\n",
              "      <td>38.0</td>\n",
              "      <td>1</td>\n",
              "      <td>0</td>\n",
              "      <td>71.2833</td>\n",
              "      <td>0</td>\n",
              "    </tr>\n",
              "    <tr>\n",
              "      <th>2</th>\n",
              "      <td>1</td>\n",
              "      <td>3</td>\n",
              "      <td>0</td>\n",
              "      <td>26.0</td>\n",
              "      <td>0</td>\n",
              "      <td>0</td>\n",
              "      <td>7.9250</td>\n",
              "      <td>2</td>\n",
              "    </tr>\n",
              "    <tr>\n",
              "      <th>3</th>\n",
              "      <td>1</td>\n",
              "      <td>1</td>\n",
              "      <td>0</td>\n",
              "      <td>35.0</td>\n",
              "      <td>1</td>\n",
              "      <td>0</td>\n",
              "      <td>53.1000</td>\n",
              "      <td>2</td>\n",
              "    </tr>\n",
              "    <tr>\n",
              "      <th>4</th>\n",
              "      <td>0</td>\n",
              "      <td>3</td>\n",
              "      <td>1</td>\n",
              "      <td>35.0</td>\n",
              "      <td>0</td>\n",
              "      <td>0</td>\n",
              "      <td>8.0500</td>\n",
              "      <td>2</td>\n",
              "    </tr>\n",
              "  </tbody>\n",
              "</table>\n",
              "</div>"
            ],
            "text/plain": [
              "   Survived  Pclass  Sex   Age  SibSp  Parch     Fare  Embarked\n",
              "0         0       3    1  22.0      1      0   7.2500         2\n",
              "1         1       1    0  38.0      1      0  71.2833         0\n",
              "2         1       3    0  26.0      0      0   7.9250         2\n",
              "3         1       1    0  35.0      1      0  53.1000         2\n",
              "4         0       3    1  35.0      0      0   8.0500         2"
            ]
          },
          "metadata": {
            "tags": []
          },
          "execution_count": 31
        }
      ]
    },
    {
      "cell_type": "markdown",
      "metadata": {
        "id": "5Uw-1DmN0T9n",
        "colab_type": "text"
      },
      "source": [
        "We now have an encoded dataset.\n",
        "We'll also encode our test set."
      ]
    },
    {
      "cell_type": "code",
      "metadata": {
        "id": "iEXkrtZnJzp7",
        "colab_type": "code",
        "colab": {}
      },
      "source": [
        "#We'll first extract the categorial featuers using boolean mask\n",
        "\n",
        "#Categorical boolean mask\n",
        "categorical_feature_mask = test2.dtypes==object\n",
        "# filter categorical columns using mask and turn it into a list\n",
        "categorical_cols = test2.columns[categorical_feature_mask].tolist()"
      ],
      "execution_count": 32,
      "outputs": []
    },
    {
      "cell_type": "code",
      "metadata": {
        "id": "37Uo7g8nJ7hT",
        "colab_type": "code",
        "colab": {
          "base_uri": "https://localhost:8080/",
          "height": 347
        },
        "outputId": "72f3b963-dac4-4574-d916-ac1fbbed0f09"
      },
      "source": [
        "#Importing warnings in order to ignore them when printing out the output\n",
        "import warnings\n",
        "warnings.filterwarnings(\"ignore\")\n",
        "#Encoding categorical features using label encoder\n",
        "\n",
        "#Importing labelencoder\n",
        "from sklearn.preprocessing import LabelEncoder\n",
        "\n",
        "#Instantiating labelencoder object\n",
        "le = LabelEncoder()\n",
        "\n",
        "#Applying le on categorical feature columns\n",
        "test2[categorical_cols] = test2[categorical_cols].apply(lambda col: le.fit_transform(col))\n",
        "test2[categorical_cols].head(10)"
      ],
      "execution_count": 33,
      "outputs": [
        {
          "output_type": "execute_result",
          "data": {
            "text/html": [
              "<div>\n",
              "<style scoped>\n",
              "    .dataframe tbody tr th:only-of-type {\n",
              "        vertical-align: middle;\n",
              "    }\n",
              "\n",
              "    .dataframe tbody tr th {\n",
              "        vertical-align: top;\n",
              "    }\n",
              "\n",
              "    .dataframe thead th {\n",
              "        text-align: right;\n",
              "    }\n",
              "</style>\n",
              "<table border=\"1\" class=\"dataframe\">\n",
              "  <thead>\n",
              "    <tr style=\"text-align: right;\">\n",
              "      <th></th>\n",
              "      <th>Sex</th>\n",
              "      <th>Embarked</th>\n",
              "    </tr>\n",
              "  </thead>\n",
              "  <tbody>\n",
              "    <tr>\n",
              "      <th>0</th>\n",
              "      <td>1</td>\n",
              "      <td>1</td>\n",
              "    </tr>\n",
              "    <tr>\n",
              "      <th>1</th>\n",
              "      <td>0</td>\n",
              "      <td>2</td>\n",
              "    </tr>\n",
              "    <tr>\n",
              "      <th>2</th>\n",
              "      <td>1</td>\n",
              "      <td>1</td>\n",
              "    </tr>\n",
              "    <tr>\n",
              "      <th>3</th>\n",
              "      <td>1</td>\n",
              "      <td>2</td>\n",
              "    </tr>\n",
              "    <tr>\n",
              "      <th>4</th>\n",
              "      <td>0</td>\n",
              "      <td>2</td>\n",
              "    </tr>\n",
              "    <tr>\n",
              "      <th>5</th>\n",
              "      <td>1</td>\n",
              "      <td>2</td>\n",
              "    </tr>\n",
              "    <tr>\n",
              "      <th>6</th>\n",
              "      <td>0</td>\n",
              "      <td>1</td>\n",
              "    </tr>\n",
              "    <tr>\n",
              "      <th>7</th>\n",
              "      <td>1</td>\n",
              "      <td>2</td>\n",
              "    </tr>\n",
              "    <tr>\n",
              "      <th>8</th>\n",
              "      <td>0</td>\n",
              "      <td>0</td>\n",
              "    </tr>\n",
              "    <tr>\n",
              "      <th>9</th>\n",
              "      <td>1</td>\n",
              "      <td>2</td>\n",
              "    </tr>\n",
              "  </tbody>\n",
              "</table>\n",
              "</div>"
            ],
            "text/plain": [
              "   Sex  Embarked\n",
              "0    1         1\n",
              "1    0         2\n",
              "2    1         1\n",
              "3    1         2\n",
              "4    0         2\n",
              "5    1         2\n",
              "6    0         1\n",
              "7    1         2\n",
              "8    0         0\n",
              "9    1         2"
            ]
          },
          "metadata": {
            "tags": []
          },
          "execution_count": 33
        }
      ]
    },
    {
      "cell_type": "code",
      "metadata": {
        "id": "sxv72LiVKB_s",
        "colab_type": "code",
        "colab": {
          "base_uri": "https://localhost:8080/",
          "height": 197
        },
        "outputId": "b6e2da7b-563a-484f-e4d4-1ddec67197aa"
      },
      "source": [
        "#Let's preview the top of our now encoded test dataset\n",
        "test2.head()"
      ],
      "execution_count": 34,
      "outputs": [
        {
          "output_type": "execute_result",
          "data": {
            "text/html": [
              "<div>\n",
              "<style scoped>\n",
              "    .dataframe tbody tr th:only-of-type {\n",
              "        vertical-align: middle;\n",
              "    }\n",
              "\n",
              "    .dataframe tbody tr th {\n",
              "        vertical-align: top;\n",
              "    }\n",
              "\n",
              "    .dataframe thead th {\n",
              "        text-align: right;\n",
              "    }\n",
              "</style>\n",
              "<table border=\"1\" class=\"dataframe\">\n",
              "  <thead>\n",
              "    <tr style=\"text-align: right;\">\n",
              "      <th></th>\n",
              "      <th>Pclass</th>\n",
              "      <th>Sex</th>\n",
              "      <th>Age</th>\n",
              "      <th>SibSp</th>\n",
              "      <th>Parch</th>\n",
              "      <th>Fare</th>\n",
              "      <th>Embarked</th>\n",
              "    </tr>\n",
              "  </thead>\n",
              "  <tbody>\n",
              "    <tr>\n",
              "      <th>0</th>\n",
              "      <td>3</td>\n",
              "      <td>1</td>\n",
              "      <td>22.0</td>\n",
              "      <td>0</td>\n",
              "      <td>0</td>\n",
              "      <td>7.8292</td>\n",
              "      <td>1</td>\n",
              "    </tr>\n",
              "    <tr>\n",
              "      <th>1</th>\n",
              "      <td>3</td>\n",
              "      <td>0</td>\n",
              "      <td>38.0</td>\n",
              "      <td>1</td>\n",
              "      <td>0</td>\n",
              "      <td>7.0000</td>\n",
              "      <td>2</td>\n",
              "    </tr>\n",
              "    <tr>\n",
              "      <th>2</th>\n",
              "      <td>2</td>\n",
              "      <td>1</td>\n",
              "      <td>26.0</td>\n",
              "      <td>0</td>\n",
              "      <td>0</td>\n",
              "      <td>9.6875</td>\n",
              "      <td>1</td>\n",
              "    </tr>\n",
              "    <tr>\n",
              "      <th>3</th>\n",
              "      <td>3</td>\n",
              "      <td>1</td>\n",
              "      <td>35.0</td>\n",
              "      <td>0</td>\n",
              "      <td>0</td>\n",
              "      <td>8.6625</td>\n",
              "      <td>2</td>\n",
              "    </tr>\n",
              "    <tr>\n",
              "      <th>4</th>\n",
              "      <td>3</td>\n",
              "      <td>0</td>\n",
              "      <td>35.0</td>\n",
              "      <td>1</td>\n",
              "      <td>1</td>\n",
              "      <td>12.2875</td>\n",
              "      <td>2</td>\n",
              "    </tr>\n",
              "  </tbody>\n",
              "</table>\n",
              "</div>"
            ],
            "text/plain": [
              "   Pclass  Sex   Age  SibSp  Parch     Fare  Embarked\n",
              "0       3    1  22.0      0      0   7.8292         1\n",
              "1       3    0  38.0      1      0   7.0000         2\n",
              "2       2    1  26.0      0      0   9.6875         1\n",
              "3       3    1  35.0      0      0   8.6625         2\n",
              "4       3    0  35.0      1      1  12.2875         2"
            ]
          },
          "metadata": {
            "tags": []
          },
          "execution_count": 34
        }
      ]
    },
    {
      "cell_type": "markdown",
      "metadata": {
        "id": "yLXmG-nAX5RR",
        "colab_type": "text"
      },
      "source": [
        "### c.) Outliers"
      ]
    },
    {
      "cell_type": "code",
      "metadata": {
        "id": "khQ04FFuW1NC",
        "colab_type": "code",
        "colab": {
          "base_uri": "https://localhost:8080/",
          "height": 687
        },
        "outputId": "ca597af0-4d2a-412c-d02a-1ae8145efd56"
      },
      "source": [
        "#Checking for outliers\n",
        "#Plotting boxplots to visualize outliers in the dataset\n",
        "fig, ((ax1, ax2, ax3,ax4,ax5,ax6,ax7,ax8)) = plt.subplots(1,8, figsize=(20, 10))\n",
        "fig.suptitle('Boxplots for numeric variables')\n",
        "sns.boxplot(train2['Survived'], ax=ax1)\n",
        "sns.boxplot(train2['Pclass'], ax=ax2)\n",
        "sns.boxplot(train2['Sex'], ax=ax3)\n",
        "sns.boxplot(train2['Age'], ax=ax4)\n",
        "sns.boxplot(train2['SibSp'], ax=ax5)\n",
        "sns.boxplot(train2['Parch'], ax=ax6)\n",
        "sns.boxplot(train2['Fare'], ax=ax7)\n",
        "sns.boxplot(train2['Embarked'], ax=ax8)\n",
        "plt.show()"
      ],
      "execution_count": 35,
      "outputs": [
        {
          "output_type": "display_data",
          "data": {
            "image/png": "[encoded data removed]",
            "text/plain": [
              "<Figure size 1440x720 with 8 Axes>"
            ]
          },
          "metadata": {
            "tags": [],
            "needs_background": "light"
          }
        }
      ]
    },
    {
      "cell_type": "markdown",
      "metadata": {
        "id": "ZCLe75toYAYr",
        "colab_type": "text"
      },
      "source": [
        "The categorical columns do not have outliers, however there are outliers on the numerical columns i.e. age, SibSp, Parch and the Fare. \n",
        "\n",
        "We will not remove these outliers as they are necessary, they present the information of the passengers hence removng them would results in removing actual information about passengers."
      ]
    },
    {
      "cell_type": "markdown",
      "metadata": {
        "id": "rF2ABPsHUtbZ",
        "colab_type": "text"
      },
      "source": [
        "## 6. Exploratory Analysis"
      ]
    },
    {
      "cell_type": "markdown",
      "metadata": {
        "id": "ZAMXs6Bv1niN",
        "colab_type": "text"
      },
      "source": [
        "### a.) Statistical Descriptions"
      ]
    },
    {
      "cell_type": "code",
      "metadata": {
        "id": "5nnRToniXGDK",
        "colab_type": "code",
        "colab": {
          "base_uri": "https://localhost:8080/",
          "height": 287
        },
        "outputId": "d6a060df-2384-4fc4-bccc-1d2f2419958a"
      },
      "source": [
        "#Checking statistical descriptions of the dataset\n",
        "train2.describe()"
      ],
      "execution_count": 36,
      "outputs": [
        {
          "output_type": "execute_result",
          "data": {
            "text/html": [
              "<div>\n",
              "<style scoped>\n",
              "    .dataframe tbody tr th:only-of-type {\n",
              "        vertical-align: middle;\n",
              "    }\n",
              "\n",
              "    .dataframe tbody tr th {\n",
              "        vertical-align: top;\n",
              "    }\n",
              "\n",
              "    .dataframe thead th {\n",
              "        text-align: right;\n",
              "    }\n",
              "</style>\n",
              "<table border=\"1\" class=\"dataframe\">\n",
              "  <thead>\n",
              "    <tr style=\"text-align: right;\">\n",
              "      <th></th>\n",
              "      <th>Survived</th>\n",
              "      <th>Pclass</th>\n",
              "      <th>Sex</th>\n",
              "      <th>Age</th>\n",
              "      <th>SibSp</th>\n",
              "      <th>Parch</th>\n",
              "      <th>Fare</th>\n",
              "      <th>Embarked</th>\n",
              "    </tr>\n",
              "  </thead>\n",
              "  <tbody>\n",
              "    <tr>\n",
              "      <th>count</th>\n",
              "      <td>889.000000</td>\n",
              "      <td>889.000000</td>\n",
              "      <td>889.000000</td>\n",
              "      <td>889.000000</td>\n",
              "      <td>889.000000</td>\n",
              "      <td>889.000000</td>\n",
              "      <td>889.000000</td>\n",
              "      <td>889.000000</td>\n",
              "    </tr>\n",
              "    <tr>\n",
              "      <th>mean</th>\n",
              "      <td>0.382452</td>\n",
              "      <td>2.311586</td>\n",
              "      <td>0.649044</td>\n",
              "      <td>29.019314</td>\n",
              "      <td>0.524184</td>\n",
              "      <td>0.382452</td>\n",
              "      <td>32.096681</td>\n",
              "      <td>1.535433</td>\n",
              "    </tr>\n",
              "    <tr>\n",
              "      <th>std</th>\n",
              "      <td>0.486260</td>\n",
              "      <td>0.834700</td>\n",
              "      <td>0.477538</td>\n",
              "      <td>13.209814</td>\n",
              "      <td>1.103705</td>\n",
              "      <td>0.806761</td>\n",
              "      <td>49.697504</td>\n",
              "      <td>0.792088</td>\n",
              "    </tr>\n",
              "    <tr>\n",
              "      <th>min</th>\n",
              "      <td>0.000000</td>\n",
              "      <td>1.000000</td>\n",
              "      <td>0.000000</td>\n",
              "      <td>0.420000</td>\n",
              "      <td>0.000000</td>\n",
              "      <td>0.000000</td>\n",
              "      <td>0.000000</td>\n",
              "      <td>0.000000</td>\n",
              "    </tr>\n",
              "    <tr>\n",
              "      <th>25%</th>\n",
              "      <td>0.000000</td>\n",
              "      <td>2.000000</td>\n",
              "      <td>0.000000</td>\n",
              "      <td>22.000000</td>\n",
              "      <td>0.000000</td>\n",
              "      <td>0.000000</td>\n",
              "      <td>7.895800</td>\n",
              "      <td>1.000000</td>\n",
              "    </tr>\n",
              "    <tr>\n",
              "      <th>50%</th>\n",
              "      <td>0.000000</td>\n",
              "      <td>3.000000</td>\n",
              "      <td>1.000000</td>\n",
              "      <td>26.000000</td>\n",
              "      <td>0.000000</td>\n",
              "      <td>0.000000</td>\n",
              "      <td>14.454200</td>\n",
              "      <td>2.000000</td>\n",
              "    </tr>\n",
              "    <tr>\n",
              "      <th>75%</th>\n",
              "      <td>1.000000</td>\n",
              "      <td>3.000000</td>\n",
              "      <td>1.000000</td>\n",
              "      <td>36.500000</td>\n",
              "      <td>1.000000</td>\n",
              "      <td>0.000000</td>\n",
              "      <td>31.000000</td>\n",
              "      <td>2.000000</td>\n",
              "    </tr>\n",
              "    <tr>\n",
              "      <th>max</th>\n",
              "      <td>1.000000</td>\n",
              "      <td>3.000000</td>\n",
              "      <td>1.000000</td>\n",
              "      <td>80.000000</td>\n",
              "      <td>8.000000</td>\n",
              "      <td>6.000000</td>\n",
              "      <td>512.329200</td>\n",
              "      <td>2.000000</td>\n",
              "    </tr>\n",
              "  </tbody>\n",
              "</table>\n",
              "</div>"
            ],
            "text/plain": [
              "         Survived      Pclass         Sex  ...       Parch        Fare    Embarked\n",
              "count  889.000000  889.000000  889.000000  ...  889.000000  889.000000  889.000000\n",
              "mean     0.382452    2.311586    0.649044  ...    0.382452   32.096681    1.535433\n",
              "std      0.486260    0.834700    0.477538  ...    0.806761   49.697504    0.792088\n",
              "min      0.000000    1.000000    0.000000  ...    0.000000    0.000000    0.000000\n",
              "25%      0.000000    2.000000    0.000000  ...    0.000000    7.895800    1.000000\n",
              "50%      0.000000    3.000000    1.000000  ...    0.000000   14.454200    2.000000\n",
              "75%      1.000000    3.000000    1.000000  ...    0.000000   31.000000    2.000000\n",
              "max      1.000000    3.000000    1.000000  ...    6.000000  512.329200    2.000000\n",
              "\n",
              "[8 rows x 8 columns]"
            ]
          },
          "metadata": {
            "tags": []
          },
          "execution_count": 36
        }
      ]
    },
    {
      "cell_type": "markdown",
      "metadata": {
        "id": "7xsRn0Ox1ytz",
        "colab_type": "text"
      },
      "source": [
        "The above simply gives the measures of central tendency i.e. the mean, median, 25th percentile, 75th percentile, the minimum and maximum of the different variables in the dataset.\n",
        "\n",
        "It also gives some measures of dispersion i.e standard deviation of the variables."
      ]
    },
    {
      "cell_type": "markdown",
      "metadata": {
        "id": "gjCDOEyb18F5",
        "colab_type": "text"
      },
      "source": [
        "### b.) Distribution plots"
      ]
    },
    {
      "cell_type": "code",
      "metadata": {
        "id": "6UzyQC6kmdBi",
        "colab_type": "code",
        "colab": {
          "base_uri": "https://localhost:8080/",
          "height": 903
        },
        "outputId": "422119fc-ad12-43cc-cec5-98cf7b446f88"
      },
      "source": [
        "#Plotting distribution plots for the variables to see the type of distribution they possess\n",
        "f, axes = plt.subplots(3, 3, figsize=(15, 15), sharex=False)\n",
        "sns.distplot( train2['Survived'],ax=axes[0, 0])\n",
        "sns.distplot( train2['Pclass'],ax=axes[0, 1])\n",
        "sns.distplot( train2['Sex'],ax=axes[0, 2])\n",
        "sns.distplot( train2['Age'],ax=axes[1, 0])\n",
        "sns.distplot( train2['SibSp'],ax=axes[1, 1])\n",
        "sns.distplot( train2['Parch'],ax=axes[1, 2])\n",
        "sns.distplot( train2['Fare'],ax=axes[2, 0])\n",
        "sns.distplot( train2['Embarked'],ax=axes[2, 1])"
      ],
      "execution_count": 37,
      "outputs": [
        {
          "output_type": "execute_result",
          "data": {
            "text/plain": [
              "<matplotlib.axes._subplots.AxesSubplot at 0x7fa6b23b0c18>"
            ]
          },
          "metadata": {
            "tags": []
          },
          "execution_count": 37
        },
        {
          "output_type": "display_data",
          "data": {
            "image/png": "[encoded data removed]",
            "text/plain": [
              "<Figure size 1080x1080 with 9 Axes>"
            ]
          },
          "metadata": {
            "tags": [],
            "needs_background": "light"
          }
        }
      ]
    },
    {
      "cell_type": "markdown",
      "metadata": {
        "id": "ZOIsvKmX2hrX",
        "colab_type": "text"
      },
      "source": [
        "From the above we can see the distribution of each variable and they are listed as folows;\n",
        "* Survived - The number of passengers who survived is higher than those who did not survive.\n",
        "* Pclass - Most of the passengers were in 3rd class followed by 1st class then 2nd class had the least number of passengers.\n",
        "* Sex - THere were more males than female passengers on booard the titanic.\n",
        "* Age - Most of the passengers were aged between 20 and 40 with the majority being itheir late 20s\n",
        "* SibSp - The majority number of siblings/spouses aboard was 0 therefore not many passengers had siblings /spouses on board.\n",
        "* Parch - The majority number of parents/children aboard was also 0 implying not many passengers had parents and children on board.\n",
        "* Fare - The majority of the fare paid by the passengers in British Pounds was between 0 and 100 with very few passengers paying more than 100.\n",
        "* Embarked - The Southampton Port was the port where many passengers embarked followed by Cherbourg port and lastly the Queenstown port.  "
      ]
    },
    {
      "cell_type": "markdown",
      "metadata": {
        "id": "VthJMs9z5UEV",
        "colab_type": "text"
      },
      "source": [
        "### c.) Histograms"
      ]
    },
    {
      "cell_type": "code",
      "metadata": {
        "id": "nvCA3mZv5Ti-",
        "colab_type": "code",
        "colab": {
          "base_uri": "https://localhost:8080/",
          "height": 977
        },
        "outputId": "9d619962-7e2a-4518-8e22-a53e5643c1df"
      },
      "source": [
        "#Plotting the variables on histograms to view the distribution of each variable.\n",
        "train2.hist(bins=10, figsize=(15,15))\n",
        "plt.suptitle(\"Histogram of numeric variables\")\n",
        "plt.savefig('Titanic Histogram')\n",
        "plt.show()"
      ],
      "execution_count": 38,
      "outputs": [
        {
          "output_type": "display_data",
          "data": {
            "image/png": "[encoded data removed]",
            "text/plain": [
              "<Figure size 1080x1080 with 9 Axes>"
            ]
          },
          "metadata": {
            "tags": [],
            "needs_background": "light"
          }
        }
      ]
    },
    {
      "cell_type": "markdown",
      "metadata": {
        "id": "DOiLoW1L5g63",
        "colab_type": "text"
      },
      "source": [
        "The above chart shows that the distribution is right-skewed for some of the variables and some are skewed to the left. Generally our data is very skewed.\n",
        "However the age variable has a normal distribution"
      ]
    },
    {
      "cell_type": "markdown",
      "metadata": {
        "id": "N4GXnB1d55BM",
        "colab_type": "text"
      },
      "source": [
        "### d.) Correlation"
      ]
    },
    {
      "cell_type": "code",
      "metadata": {
        "id": "aNVW1hjj54oo",
        "colab_type": "code",
        "colab": {
          "base_uri": "https://localhost:8080/",
          "height": 287
        },
        "outputId": "a96d20e2-c1ee-431f-8214-74f01fce17b1"
      },
      "source": [
        "#Checking how our varibales are correlated using a matrix\n",
        "corrMatrix = train2.corr()\n",
        "corrMatrix"
      ],
      "execution_count": 39,
      "outputs": [
        {
          "output_type": "execute_result",
          "data": {
            "text/html": [
              "<div>\n",
              "<style scoped>\n",
              "    .dataframe tbody tr th:only-of-type {\n",
              "        vertical-align: middle;\n",
              "    }\n",
              "\n",
              "    .dataframe tbody tr th {\n",
              "        vertical-align: top;\n",
              "    }\n",
              "\n",
              "    .dataframe thead th {\n",
              "        text-align: right;\n",
              "    }\n",
              "</style>\n",
              "<table border=\"1\" class=\"dataframe\">\n",
              "  <thead>\n",
              "    <tr style=\"text-align: right;\">\n",
              "      <th></th>\n",
              "      <th>Survived</th>\n",
              "      <th>Pclass</th>\n",
              "      <th>Sex</th>\n",
              "      <th>Age</th>\n",
              "      <th>SibSp</th>\n",
              "      <th>Parch</th>\n",
              "      <th>Fare</th>\n",
              "      <th>Embarked</th>\n",
              "    </tr>\n",
              "  </thead>\n",
              "  <tbody>\n",
              "    <tr>\n",
              "      <th>Survived</th>\n",
              "      <td>1.000000</td>\n",
              "      <td>-0.335549</td>\n",
              "      <td>-0.541585</td>\n",
              "      <td>-0.052051</td>\n",
              "      <td>-0.034040</td>\n",
              "      <td>0.083151</td>\n",
              "      <td>0.255290</td>\n",
              "      <td>-0.169718</td>\n",
              "    </tr>\n",
              "    <tr>\n",
              "      <th>Pclass</th>\n",
              "      <td>-0.335549</td>\n",
              "      <td>1.000000</td>\n",
              "      <td>0.127741</td>\n",
              "      <td>-0.405549</td>\n",
              "      <td>0.081656</td>\n",
              "      <td>0.016824</td>\n",
              "      <td>-0.548193</td>\n",
              "      <td>0.164681</td>\n",
              "    </tr>\n",
              "    <tr>\n",
              "      <th>Sex</th>\n",
              "      <td>-0.541585</td>\n",
              "      <td>0.127741</td>\n",
              "      <td>1.000000</td>\n",
              "      <td>0.083730</td>\n",
              "      <td>-0.116348</td>\n",
              "      <td>-0.247508</td>\n",
              "      <td>-0.179958</td>\n",
              "      <td>0.110320</td>\n",
              "    </tr>\n",
              "    <tr>\n",
              "      <th>Age</th>\n",
              "      <td>-0.052051</td>\n",
              "      <td>-0.405549</td>\n",
              "      <td>0.083730</td>\n",
              "      <td>1.000000</td>\n",
              "      <td>-0.242807</td>\n",
              "      <td>-0.170089</td>\n",
              "      <td>0.120938</td>\n",
              "      <td>-0.013385</td>\n",
              "    </tr>\n",
              "    <tr>\n",
              "      <th>SibSp</th>\n",
              "      <td>-0.034040</td>\n",
              "      <td>0.081656</td>\n",
              "      <td>-0.116348</td>\n",
              "      <td>-0.242807</td>\n",
              "      <td>1.000000</td>\n",
              "      <td>0.414542</td>\n",
              "      <td>0.160887</td>\n",
              "      <td>0.068900</td>\n",
              "    </tr>\n",
              "    <tr>\n",
              "      <th>Parch</th>\n",
              "      <td>0.083151</td>\n",
              "      <td>0.016824</td>\n",
              "      <td>-0.247508</td>\n",
              "      <td>-0.170089</td>\n",
              "      <td>0.414542</td>\n",
              "      <td>1.000000</td>\n",
              "      <td>0.217532</td>\n",
              "      <td>0.040449</td>\n",
              "    </tr>\n",
              "    <tr>\n",
              "      <th>Fare</th>\n",
              "      <td>0.255290</td>\n",
              "      <td>-0.548193</td>\n",
              "      <td>-0.179958</td>\n",
              "      <td>0.120938</td>\n",
              "      <td>0.160887</td>\n",
              "      <td>0.217532</td>\n",
              "      <td>1.000000</td>\n",
              "      <td>-0.226311</td>\n",
              "    </tr>\n",
              "    <tr>\n",
              "      <th>Embarked</th>\n",
              "      <td>-0.169718</td>\n",
              "      <td>0.164681</td>\n",
              "      <td>0.110320</td>\n",
              "      <td>-0.013385</td>\n",
              "      <td>0.068900</td>\n",
              "      <td>0.040449</td>\n",
              "      <td>-0.226311</td>\n",
              "      <td>1.000000</td>\n",
              "    </tr>\n",
              "  </tbody>\n",
              "</table>\n",
              "</div>"
            ],
            "text/plain": [
              "          Survived    Pclass       Sex  ...     Parch      Fare  Embarked\n",
              "Survived  1.000000 -0.335549 -0.541585  ...  0.083151  0.255290 -0.169718\n",
              "Pclass   -0.335549  1.000000  0.127741  ...  0.016824 -0.548193  0.164681\n",
              "Sex      -0.541585  0.127741  1.000000  ... -0.247508 -0.179958  0.110320\n",
              "Age      -0.052051 -0.405549  0.083730  ... -0.170089  0.120938 -0.013385\n",
              "SibSp    -0.034040  0.081656 -0.116348  ...  0.414542  0.160887  0.068900\n",
              "Parch     0.083151  0.016824 -0.247508  ...  1.000000  0.217532  0.040449\n",
              "Fare      0.255290 -0.548193 -0.179958  ...  0.217532  1.000000 -0.226311\n",
              "Embarked -0.169718  0.164681  0.110320  ...  0.040449 -0.226311  1.000000\n",
              "\n",
              "[8 rows x 8 columns]"
            ]
          },
          "metadata": {
            "tags": []
          },
          "execution_count": 39
        }
      ]
    },
    {
      "cell_type": "markdown",
      "metadata": {
        "id": "_MqzvZlt6C3_",
        "colab_type": "text"
      },
      "source": [
        "We can see that our variables are correlated with the gender of our passenger having the highest correlation to the survival variable."
      ]
    },
    {
      "cell_type": "code",
      "metadata": {
        "id": "pTIot0i06VK5",
        "colab_type": "code",
        "colab": {
          "base_uri": "https://localhost:8080/",
          "height": 891
        },
        "outputId": "2a72c7bc-c30e-4a5f-9dfd-fecd51d58704"
      },
      "source": [
        "#Plotting visualization of the correlation matrix for better clarity \n",
        "plt.figure(figsize=(15, 15))  \n",
        "sns.heatmap(corrMatrix, annot = True)"
      ],
      "execution_count": 40,
      "outputs": [
        {
          "output_type": "execute_result",
          "data": {
            "text/plain": [
              "<matplotlib.axes._subplots.AxesSubplot at 0x7fa6dbde1908>"
            ]
          },
          "metadata": {
            "tags": []
          },
          "execution_count": 40
        },
        {
          "output_type": "display_data",
          "data": {
            "image/png": "[encoded data removed]",
            "text/plain": [
              "<Figure size 1080x1080 with 2 Axes>"
            ]
          },
          "metadata": {
            "tags": [],
            "needs_background": "light"
          }
        }
      ]
    },
    {
      "cell_type": "markdown",
      "metadata": {
        "id": "drfrIrtp6YdW",
        "colab_type": "text"
      },
      "source": [
        "The above heatmap shows a vivid description of the correlation of our variables and as you can see the sex variable is highly correlated to the survival of the passenger."
      ]
    },
    {
      "cell_type": "code",
      "metadata": {
        "id": "ZhTLL9vF7Udi",
        "colab_type": "code",
        "colab": {
          "base_uri": "https://localhost:8080/",
          "height": 1000
        },
        "outputId": "926ad267-6c92-4a3d-cb08-16df279989b8"
      },
      "source": [
        "#Plotting pairplots to see the relationships in our dataset.\n",
        "#Plotting pair plots\n",
        "sns.pairplot(train2)\n",
        "plt.show()"
      ],
      "execution_count": 41,
      "outputs": [
        {
          "output_type": "display_data",
          "data": {
            "image/png": "[encoded data removed]",
            "text/plain": [
              "<Figure size 1440x1440 with 72 Axes>"
            ]
          },
          "metadata": {
            "tags": [],
            "needs_background": "light"
          }
        }
      ]
    },
    {
      "cell_type": "markdown",
      "metadata": {
        "id": "-_uBFDFd7q2r",
        "colab_type": "text"
      },
      "source": [
        "### e.) Barplots"
      ]
    },
    {
      "cell_type": "code",
      "metadata": {
        "id": "A8DdcRUy7pnd",
        "colab_type": "code",
        "colab": {
          "base_uri": "https://localhost:8080/",
          "height": 343
        },
        "outputId": "a1d209fe-93e4-4220-e43d-d301b1e45476"
      },
      "source": [
        "#Plotting barplots to show how the passenger class, sex, number of siblings/spouse, parents/ children and the port they embarked on\n",
        "# to show how they affect the survival of a passenger\n",
        "fig, ax = plt.subplots(1,5, figsize=(20, 5))\n",
        "sns.barplot(x= 'Pclass', y = 'Survived', data = train2, ax=ax[0])\n",
        "sns.barplot(x= 'Sex', y = 'Survived', data = train2, ax=ax[1])\n",
        "sns.barplot(x= 'SibSp', y = 'Survived', data = train2, ax=ax[2])\n",
        "sns.barplot(x= 'Parch', y = 'Survived', data = train2, ax=ax[3])\n",
        "sns.barplot(x= 'Embarked', y = 'Survived', data = train2, ax=ax[4])\n",
        "fig.show()"
      ],
      "execution_count": 42,
      "outputs": [
        {
          "output_type": "display_data",
          "data": {
            "image/png": "[encoded data removed]",
            "text/plain": [
              "<Figure size 1440x360 with 5 Axes>"
            ]
          },
          "metadata": {
            "tags": [],
            "needs_background": "light"
          }
        }
      ]
    },
    {
      "cell_type": "markdown",
      "metadata": {
        "id": "0qXXyWTZ_3sc",
        "colab_type": "text"
      },
      "source": [
        "From the above we can deduce the following;\n",
        "* Most of the people who survived were in 1st class followed by 2nd then 3rd class.\n",
        "* The females survived morethan the males.\n",
        "* The passengers with 1 sibling/spouse survived the most followed by 2, 0, 3 then those with 4.\n",
        "* The passengers with 3 parents/children survived the most followed by 1, 2,0 then 5.\n",
        "* The passengers who embarked at Port Cherboug survived more than th other ports. "
      ]
    },
    {
      "cell_type": "code",
      "metadata": {
        "id": "kL30bhb8FMZI",
        "colab_type": "code",
        "colab": {
          "base_uri": "https://localhost:8080/",
          "height": 341
        },
        "outputId": "cab4c6fb-13e8-4c4f-ef28-403afffdeae1"
      },
      "source": [
        "#Plotting barplots to show how the age and the fare of the passengers affect their survival\n",
        "fig, ax = plt.subplots(1,2, figsize=(25, 5))\n",
        "sns.barplot(x= 'Age', y = 'Survived', data = train2, palette='summer', ax=ax[0])\n",
        "sns.barplot(x= 'Fare', y = 'Survived', data = train2, palette='summer', ax=ax[1])\n",
        "fig.show()"
      ],
      "execution_count": 43,
      "outputs": [
        {
          "output_type": "display_data",
          "data": {
            "image/png": "[encoded data removed]",
            "text/plain": [
              "<Figure size 1800x360 with 2 Axes>"
            ]
          },
          "metadata": {
            "tags": [],
            "needs_background": "light"
          }
        }
      ]
    },
    {
      "cell_type": "markdown",
      "metadata": {
        "id": "COuU9h51F40p",
        "colab_type": "text"
      },
      "source": [
        "Although the above barplots are very clustered and very hard to interpret. The age barplot is not so clustered, we can deduce some conclusions from it.\n",
        "\n",
        "Young passengers survived more than other passengers. The chance of survival for middle aged passengers was the lowest. \n",
        "\n",
        "The fare bar plot is very clustered and we therefore cannot draw genuine conclusions from it."
      ]
    },
    {
      "cell_type": "markdown",
      "metadata": {
        "id": "vTbdjSrhVIiT",
        "colab_type": "text"
      },
      "source": [
        "## 7. Implementing the Solution"
      ]
    },
    {
      "cell_type": "markdown",
      "metadata": {
        "id": "fLXdO_H4YfS3",
        "colab_type": "text"
      },
      "source": [
        "We'll use the KNN classifier while building our models. We'll train using the train dataset then fit our model the test dataset to see how well our model performs on unseen data."
      ]
    },
    {
      "cell_type": "markdown",
      "metadata": {
        "id": "E_8my3PpY1QF",
        "colab_type": "text"
      },
      "source": [
        "### a.) Baseline Model"
      ]
    },
    {
      "cell_type": "markdown",
      "metadata": {
        "id": "SABD1y20ZFvO",
        "colab_type": "text"
      },
      "source": [
        "We'll build a baseline model which will be a benchmark for our other models and we'll use it's accuracy score to determine if our models perform better or not."
      ]
    },
    {
      "cell_type": "code",
      "metadata": {
        "id": "UJgyJkoxWedP",
        "colab_type": "code",
        "colab": {}
      },
      "source": [
        "#Splitting the independent and dependent variables\n",
        "test_features = train2.columns.to_list()\n",
        "test_features.remove('Survived')\n",
        "\n",
        "X = train2[test_features].values\n",
        "y = train2['Survived'].values"
      ],
      "execution_count": 49,
      "outputs": []
    },
    {
      "cell_type": "code",
      "metadata": {
        "id": "0STMafGAWgTG",
        "colab_type": "code",
        "colab": {}
      },
      "source": [
        "#Training using 80% of the data.\n",
        "X_train, X_test, y_train, y_test = train_test_split(X, y, test_size=0.2, random_state=6) "
      ],
      "execution_count": 50,
      "outputs": []
    },
    {
      "cell_type": "code",
      "metadata": {
        "id": "X_cAOLfsWjyJ",
        "colab_type": "code",
        "colab": {
          "base_uri": "https://localhost:8080/",
          "height": 67
        },
        "outputId": "0a7f501c-a4ac-43b1-ee62-fab86281f541"
      },
      "source": [
        "#Training our model by fitting the train test with KNN classifier\n",
        " \n",
        "#We'll set the value of K at 5 at first.\n",
        "classifier = KNeighborsClassifier(n_neighbors=5)\n",
        "classifier.fit(X_train, y_train)"
      ],
      "execution_count": 55,
      "outputs": [
        {
          "output_type": "execute_result",
          "data": {
            "text/plain": [
              "KNeighborsClassifier(algorithm='auto', leaf_size=30, metric='minkowski',\n",
              "                     metric_params=None, n_jobs=None, n_neighbors=5, p=2,\n",
              "                     weights='uniform')"
            ]
          },
          "metadata": {
            "tags": []
          },
          "execution_count": 55
        }
      ]
    },
    {
      "cell_type": "code",
      "metadata": {
        "id": "8UW0_QEvWliu",
        "colab_type": "code",
        "colab": {}
      },
      "source": [
        "#Predicting our test predictors\n",
        "predicted = classifier.predict(X_test)"
      ],
      "execution_count": 52,
      "outputs": []
    },
    {
      "cell_type": "code",
      "metadata": {
        "id": "V45CTABkWnZC",
        "colab_type": "code",
        "colab": {
          "base_uri": "https://localhost:8080/",
          "height": 33
        },
        "outputId": "412eda40-3fd3-4ea0-e613-a5fd78c2b6a1"
      },
      "source": [
        "#Evaluating our model using the accuracy score\n",
        "accuracy_score(y_test, predicted)"
      ],
      "execution_count": 53,
      "outputs": [
        {
          "output_type": "execute_result",
          "data": {
            "text/plain": [
              "0.7134831460674157"
            ]
          },
          "metadata": {
            "tags": []
          },
          "execution_count": 53
        }
      ]
    },
    {
      "cell_type": "markdown",
      "metadata": {
        "id": "FT6rk9QnaHaD",
        "colab_type": "text"
      },
      "source": [
        "Our baseline model does not perform badly and has an accuracy of 71.34% although it performs lower than our metric of success which indicited that a model will be considered a good model if it has an accuracy higher than 80%\n",
        "\n",
        "This score will be a benchmark for the models we build."
      ]
    },
    {
      "cell_type": "code",
      "metadata": {
        "id": "ZwQU80T4WtT6",
        "colab_type": "code",
        "colab": {
          "base_uri": "https://localhost:8080/",
          "height": 50
        },
        "outputId": "e20c77d6-f044-4ebf-f758-836a456511b8"
      },
      "source": [
        "#Evaluating the model using a confusion matrix.\n",
        "confusion_matrix(y_test, predicted)"
      ],
      "execution_count": 54,
      "outputs": [
        {
          "output_type": "execute_result",
          "data": {
            "text/plain": [
              "array([[86, 18],\n",
              "       [33, 41]])"
            ]
          },
          "metadata": {
            "tags": []
          },
          "execution_count": 54
        }
      ]
    },
    {
      "cell_type": "markdown",
      "metadata": {
        "id": "Rt1Q3eonaeGO",
        "colab_type": "text"
      },
      "source": [
        "According to the confusion matrix, our model has 18 false positives and 33 false negatives. This shows a low number of false positives and a lot of false negative indicating that our baseline model has high precision but low recall."
      ]
    },
    {
      "cell_type": "markdown",
      "metadata": {
        "id": "y9BupKDheHD9",
        "colab_type": "text"
      },
      "source": [
        "### b.) Building the Model"
      ]
    },
    {
      "cell_type": "markdown",
      "metadata": {
        "id": "qEyuCDs-eNRc",
        "colab_type": "text"
      },
      "source": [
        "We'll build a better model by scaling our data so that all of them can be uniformly evaluated."
      ]
    },
    {
      "cell_type": "code",
      "metadata": {
        "id": "7h4l5UqOdqMd",
        "colab_type": "code",
        "colab": {}
      },
      "source": [
        "#Splitting the independent and dependent variables\n",
        "test_features = train2.columns.to_list()\n",
        "test_features.remove('Survived')\n",
        "\n",
        "X = train2[test_features].values\n",
        "y = train2['Survived'].values"
      ],
      "execution_count": 79,
      "outputs": []
    },
    {
      "cell_type": "code",
      "metadata": {
        "id": "JQi-ZjTNdsKM",
        "colab_type": "code",
        "colab": {}
      },
      "source": [
        "#Training using 80% of the data.\n",
        "X_train, X_test, y_train, y_test = train_test_split(X, y, test_size=0.2, random_state=6) "
      ],
      "execution_count": 57,
      "outputs": []
    },
    {
      "cell_type": "code",
      "metadata": {
        "id": "64WRfbWLdt4T",
        "colab_type": "code",
        "colab": {}
      },
      "source": [
        "#Feature Scaling\n",
        "#Before making any actual predictions, we'll scale the features so that all of them can be uniformly evaluated.\n",
        "from sklearn.preprocessing import StandardScaler\n",
        "scaler = StandardScaler()\n",
        "scaler.fit(X_train)\n",
        "\n",
        "X_train = scaler.transform(X_train)\n",
        "X_test = scaler.transform(X_test)"
      ],
      "execution_count": 59,
      "outputs": []
    },
    {
      "cell_type": "code",
      "metadata": {
        "id": "5o5IWhQxdy8D",
        "colab_type": "code",
        "colab": {
          "base_uri": "https://localhost:8080/",
          "height": 67
        },
        "outputId": "a86a2f9d-a3d1-4376-fe8c-8a6ed24129f8"
      },
      "source": [
        "#Training our model by fitting the train test with KNN classifier\n",
        " \n",
        "#We'll set the value of K at 5 at first.\n",
        "classifier = KNeighborsClassifier(n_neighbors= 5)\n",
        "classifier.fit(X_train, y_train)"
      ],
      "execution_count": 60,
      "outputs": [
        {
          "output_type": "execute_result",
          "data": {
            "text/plain": [
              "KNeighborsClassifier(algorithm='auto', leaf_size=30, metric='minkowski',\n",
              "                     metric_params=None, n_jobs=None, n_neighbors=5, p=2,\n",
              "                     weights='uniform')"
            ]
          },
          "metadata": {
            "tags": []
          },
          "execution_count": 60
        }
      ]
    },
    {
      "cell_type": "code",
      "metadata": {
        "id": "j_hI7WPbd1VN",
        "colab_type": "code",
        "colab": {}
      },
      "source": [
        "#Predicting our test predictors\n",
        "predicted = classifier.predict(X_test)"
      ],
      "execution_count": 61,
      "outputs": []
    },
    {
      "cell_type": "code",
      "metadata": {
        "id": "2JbZRErNd3pE",
        "colab_type": "code",
        "colab": {
          "base_uri": "https://localhost:8080/",
          "height": 33
        },
        "outputId": "f283965d-db07-4701-b409-24c12428b600"
      },
      "source": [
        "#Evaluating our model using the accuracy score\n",
        "accuracy_score(y_test, predicted)"
      ],
      "execution_count": 62,
      "outputs": [
        {
          "output_type": "execute_result",
          "data": {
            "text/plain": [
              "0.8089887640449438"
            ]
          },
          "metadata": {
            "tags": []
          },
          "execution_count": 62
        }
      ]
    },
    {
      "cell_type": "markdown",
      "metadata": {
        "id": "jE0ttRZLfd2T",
        "colab_type": "text"
      },
      "source": [
        "The accuracy of our model is 80.89%; higher than that of the baseline model. This means that scaling our data did a good job.\n",
        "\n",
        "We'll further perform feature selection to select the best features and see if we get a better model."
      ]
    },
    {
      "cell_type": "code",
      "metadata": {
        "id": "R-cNW5HuEMO7",
        "colab_type": "code",
        "colab": {
          "base_uri": "https://localhost:8080/",
          "height": 50
        },
        "outputId": "a7bd0714-4e75-42ea-8ae2-e872c4f93f74"
      },
      "source": [
        "#Evaluating the model using a confusion matrix.\n",
        "confusion_matrix(y_test, predicted)"
      ],
      "execution_count": 65,
      "outputs": [
        {
          "output_type": "execute_result",
          "data": {
            "text/plain": [
              "array([[92, 12],\n",
              "       [22, 52]])"
            ]
          },
          "metadata": {
            "tags": []
          },
          "execution_count": 65
        }
      ]
    },
    {
      "cell_type": "markdown",
      "metadata": {
        "id": "HRTsFEX9EZ4T",
        "colab_type": "text"
      },
      "source": [
        "According to the confusion matrix, our model has 12 false positives and 22 false negatives. This shows a low number of false positives and a lot of false negative indicating that our baseline model has high precision but low recall.\n",
        "\n",
        "Our model did a better job compared to the baseline model."
      ]
    },
    {
      "cell_type": "markdown",
      "metadata": {
        "id": "LI2ebTMXdfQP",
        "colab_type": "text"
      },
      "source": [
        "### c.) Feature Selection"
      ]
    },
    {
      "cell_type": "markdown",
      "metadata": {
        "id": "LfdQHOTUhiBw",
        "colab_type": "text"
      },
      "source": [
        "We'll perform feature selection using selectKBest.\n",
        "Feature selection is a technique where we choose those features in our data that contribute most to the target variable. In other words we choose the best predictors for the target variable.\n",
        "\n",
        "The classes in the sklearn.feature_selection module can be used for feature selection/dimensionality reduction on sample sets, either to improve estimators’ accuracy scores or to boost their performance on very high-dimensional datasets."
      ]
    },
    {
      "cell_type": "code",
      "metadata": {
        "id": "sXD4A4NMbfaX",
        "colab_type": "code",
        "colab": {
          "base_uri": "https://localhost:8080/",
          "height": 100
        },
        "outputId": "5e4f0db9-6e39-41e9-c227-b883eee12b35"
      },
      "source": [
        "#Import SelectKBest, chi2(score function for classification)\n",
        "from sklearn.feature_selection import SelectKBest, chi2\n",
        "#Splitting the independent and dependent variables\n",
        "test_features = train2.columns.to_list()\n",
        "test_features.remove('Survived')\n",
        "\n",
        "X = train2[test_features]\n",
        "y = train2['Survived']\n",
        "#Create the object for SelectKBest and fit and transform the classification data\n",
        "#k is the number of features we want to select, here it's 4\n",
        "X_new=SelectKBest(score_func=chi2,k=4).fit_transform(X,y)\n",
        "#Check the newly created variable for top two best features\n",
        "print(X_new[:5])"
      ],
      "execution_count": 67,
      "outputs": [
        {
          "output_type": "stream",
          "text": [
            "[[ 3.      1.     22.      7.25  ]\n",
            " [ 1.      0.     38.     71.2833]\n",
            " [ 3.      0.     26.      7.925 ]\n",
            " [ 1.      0.     35.     53.1   ]\n",
            " [ 3.      1.     35.      8.05  ]]\n"
          ],
          "name": "stdout"
        }
      ]
    },
    {
      "cell_type": "code",
      "metadata": {
        "id": "0afogXAZcr0V",
        "colab_type": "code",
        "colab": {
          "base_uri": "https://localhost:8080/",
          "height": 117
        },
        "outputId": "4e018f6e-c715-4d57-a5e5-1ce77976310e"
      },
      "source": [
        "#Compare the newly created values with feature set values to know the selected features\n",
        "print(X.head())"
      ],
      "execution_count": 68,
      "outputs": [
        {
          "output_type": "stream",
          "text": [
            "   Pclass  Sex   Age  SibSp  Parch     Fare  Embarked\n",
            "0       3    1  22.0      1      0   7.2500         2\n",
            "1       1    0  38.0      1      0  71.2833         0\n",
            "2       3    0  26.0      0      0   7.9250         2\n",
            "3       1    0  35.0      1      0  53.1000         2\n",
            "4       3    1  35.0      0      0   8.0500         2\n"
          ],
          "name": "stdout"
        }
      ]
    },
    {
      "cell_type": "markdown",
      "metadata": {
        "id": "eDLO1OAdh2ma",
        "colab_type": "text"
      },
      "source": [
        "The 4 best features selected are Passenger Class, Sex, Age and the Fare of the passengers. We'll use these features to create our model and see if it improves the accuracy score."
      ]
    },
    {
      "cell_type": "markdown",
      "metadata": {
        "id": "8w49EUMmauVb",
        "colab_type": "text"
      },
      "source": [
        "### d.) 80-20 Split"
      ]
    },
    {
      "cell_type": "markdown",
      "metadata": {
        "id": "bhTuF-drihiD",
        "colab_type": "text"
      },
      "source": [
        "We'll now build a model with the selected features to see if we get a model with a better accuarcy score.\n",
        "We'll start by using the 80-20 split."
      ]
    },
    {
      "cell_type": "code",
      "metadata": {
        "id": "PJLZaRzJXJ3w",
        "colab_type": "code",
        "colab": {}
      },
      "source": [
        "#Splitting the independent and dependent variables\n",
        "test_features = train2.columns.to_list()\n",
        "test_features.remove('Survived')\n",
        "\n",
        "X = train2[['Pclass','Sex','Age','Fare']].values\n",
        "y = train2['Survived'].values"
      ],
      "execution_count": 85,
      "outputs": []
    },
    {
      "cell_type": "code",
      "metadata": {
        "id": "krFEtxyR1xH3",
        "colab_type": "code",
        "colab": {}
      },
      "source": [
        "#Training using 80% of the data.\n",
        "X_train, X_test, y_train, y_test = train_test_split(X, y, test_size=0.2, random_state=6) "
      ],
      "execution_count": 86,
      "outputs": []
    },
    {
      "cell_type": "code",
      "metadata": {
        "id": "nz7SN1gs1-jy",
        "colab_type": "code",
        "colab": {}
      },
      "source": [
        "#Feature Scaling\n",
        "#Before making any actual predictions, we'll scale the features so that all of them can be uniformly evaluated.\n",
        "from sklearn.preprocessing import StandardScaler\n",
        "scaler = StandardScaler()\n",
        "scaler.fit(X_train)\n",
        "\n",
        "X_train = scaler.transform(X_train)\n",
        "X_test = scaler.transform(X_test)"
      ],
      "execution_count": 87,
      "outputs": []
    },
    {
      "cell_type": "code",
      "metadata": {
        "id": "xv9U3PZ8JKq4",
        "colab_type": "code",
        "colab": {
          "base_uri": "https://localhost:8080/",
          "height": 67
        },
        "outputId": "ad56b227-cb37-4cde-b98c-0e9205a45d34"
      },
      "source": [
        "#Training our model by fitting the train test with KNN classifier\n",
        " \n",
        "#We'll set the value of K at 5\n",
        "classifier = KNeighborsClassifier(n_neighbors=5)\n",
        "classifier.fit(X_train, y_train)"
      ],
      "execution_count": 88,
      "outputs": [
        {
          "output_type": "execute_result",
          "data": {
            "text/plain": [
              "KNeighborsClassifier(algorithm='auto', leaf_size=30, metric='minkowski',\n",
              "                     metric_params=None, n_jobs=None, n_neighbors=5, p=2,\n",
              "                     weights='uniform')"
            ]
          },
          "metadata": {
            "tags": []
          },
          "execution_count": 88
        }
      ]
    },
    {
      "cell_type": "code",
      "metadata": {
        "id": "2o_YqCY5JNSL",
        "colab_type": "code",
        "colab": {}
      },
      "source": [
        "#Predicting our test predictors\n",
        "predicted = classifier.predict(X_test)"
      ],
      "execution_count": 89,
      "outputs": []
    },
    {
      "cell_type": "code",
      "metadata": {
        "id": "uXRQilG-JQNN",
        "colab_type": "code",
        "colab": {
          "base_uri": "https://localhost:8080/",
          "height": 33
        },
        "outputId": "53292483-0787-48b7-aa17-3e06eb95e4af"
      },
      "source": [
        "#Evaluating our model using the accuracy score\n",
        "accuracy_score(y_test, predicted)"
      ],
      "execution_count": 90,
      "outputs": [
        {
          "output_type": "execute_result",
          "data": {
            "text/plain": [
              "0.848314606741573"
            ]
          },
          "metadata": {
            "tags": []
          },
          "execution_count": 90
        }
      ]
    },
    {
      "cell_type": "markdown",
      "metadata": {
        "id": "0zgX5gg9iwAy",
        "colab_type": "text"
      },
      "source": [
        "As we can see, the accuracy of our model increases to 84.83% which is way better than the 2 other models."
      ]
    },
    {
      "cell_type": "code",
      "metadata": {
        "id": "mSTWW6qSUu4T",
        "colab_type": "code",
        "colab": {
          "base_uri": "https://localhost:8080/",
          "height": 50
        },
        "outputId": "6c42638b-520a-4408-cbb5-e1370b9c7055"
      },
      "source": [
        "#Evaluating the model using a confusion matrix.\n",
        "confusion_matrix(y_test, predicted)"
      ],
      "execution_count": 91,
      "outputs": [
        {
          "output_type": "execute_result",
          "data": {
            "text/plain": [
              "array([[94, 10],\n",
              "       [17, 57]])"
            ]
          },
          "metadata": {
            "tags": []
          },
          "execution_count": 91
        }
      ]
    },
    {
      "cell_type": "markdown",
      "metadata": {
        "id": "5uKtPboTElI_",
        "colab_type": "text"
      },
      "source": [
        "According to the confusion matrix, our model has 17 false positives and 10 false negatives. This shows a low number of false positives and a lot of false negative and a high number of true positives and true negatives hence our model did not do badly."
      ]
    },
    {
      "cell_type": "markdown",
      "metadata": {
        "id": "8qp4izrPjy2n",
        "colab_type": "text"
      },
      "source": [
        "### e.) 70-30 Split"
      ]
    },
    {
      "cell_type": "code",
      "metadata": {
        "id": "haYEdmH4j6Wq",
        "colab_type": "code",
        "colab": {}
      },
      "source": [
        "#Training using 70% of the data.\n",
        "X_train, X_test, y_train, y_test = train_test_split(X, y, test_size=0.3, random_state=6) "
      ],
      "execution_count": 92,
      "outputs": []
    },
    {
      "cell_type": "code",
      "metadata": {
        "id": "SBMnR01Zj-D8",
        "colab_type": "code",
        "colab": {}
      },
      "source": [
        "#Feature Scaling\n",
        "#Before making any actual predictions, we'll scale the features so that all of them can be uniformly evaluated.\n",
        "from sklearn.preprocessing import StandardScaler\n",
        "scaler = StandardScaler()\n",
        "scaler.fit(X_train)\n",
        "\n",
        "X_train = scaler.transform(X_train)\n",
        "X_test = scaler.transform(X_test)"
      ],
      "execution_count": 94,
      "outputs": []
    },
    {
      "cell_type": "code",
      "metadata": {
        "id": "YUT94fCVkAHv",
        "colab_type": "code",
        "colab": {
          "base_uri": "https://localhost:8080/",
          "height": 67
        },
        "outputId": "dd0de3db-bd5f-431b-f980-890f6a7cc5cc"
      },
      "source": [
        "#Training our model by fitting the train test with KNN classifier\n",
        " \n",
        "#We'll set the value of K at 5\n",
        "classifier = KNeighborsClassifier(n_neighbors=5)\n",
        "classifier.fit(X_train, y_train)"
      ],
      "execution_count": 95,
      "outputs": [
        {
          "output_type": "execute_result",
          "data": {
            "text/plain": [
              "KNeighborsClassifier(algorithm='auto', leaf_size=30, metric='minkowski',\n",
              "                     metric_params=None, n_jobs=None, n_neighbors=5, p=2,\n",
              "                     weights='uniform')"
            ]
          },
          "metadata": {
            "tags": []
          },
          "execution_count": 95
        }
      ]
    },
    {
      "cell_type": "code",
      "metadata": {
        "id": "yz8Ha-SjkCXP",
        "colab_type": "code",
        "colab": {}
      },
      "source": [
        "#Predicting our test predictors\n",
        "predicted = classifier.predict(X_test)"
      ],
      "execution_count": 96,
      "outputs": []
    },
    {
      "cell_type": "code",
      "metadata": {
        "id": "tWBuuxTekEUw",
        "colab_type": "code",
        "colab": {
          "base_uri": "https://localhost:8080/",
          "height": 33
        },
        "outputId": "b6d14631-d236-43d2-fd1b-0d0653dbdd0d"
      },
      "source": [
        "#Evaluating our model using the accuracy score\n",
        "accuracy_score(y_test, predicted)"
      ],
      "execution_count": 653,
      "outputs": [
        {
          "output_type": "execute_result",
          "data": {
            "text/plain": [
              "0.8314606741573034"
            ]
          },
          "metadata": {
            "tags": []
          },
          "execution_count": 653
        }
      ]
    },
    {
      "cell_type": "markdown",
      "metadata": {
        "id": "qoFZiIxfknoD",
        "colab_type": "text"
      },
      "source": [
        "The 70-30 Split gives us an accuracy score of 83.14% which is lower than other 80-20 model.  "
      ]
    },
    {
      "cell_type": "markdown",
      "metadata": {
        "id": "HUm1hNLHkHU4",
        "colab_type": "text"
      },
      "source": [
        "###  f.) 60-40 Split"
      ]
    },
    {
      "cell_type": "code",
      "metadata": {
        "id": "_z5mA9MokMjc",
        "colab_type": "code",
        "colab": {}
      },
      "source": [
        "#Training using 60% of the data.\n",
        "X_train, X_test, y_train, y_test = train_test_split(X, y, test_size=0.4, random_state=6) "
      ],
      "execution_count": 97,
      "outputs": []
    },
    {
      "cell_type": "code",
      "metadata": {
        "id": "RnlutZQhkN5o",
        "colab_type": "code",
        "colab": {}
      },
      "source": [
        "#Feature Scaling\n",
        "#Before making any actual predictions, we'll scale the features so that all of them can be uniformly evaluated.\n",
        "from sklearn.preprocessing import StandardScaler\n",
        "scaler = StandardScaler()\n",
        "scaler.fit(X_train)\n",
        "\n",
        "X_train = scaler.transform(X_train)\n",
        "X_test = scaler.transform(X_test)"
      ],
      "execution_count": 98,
      "outputs": []
    },
    {
      "cell_type": "code",
      "metadata": {
        "id": "G4Ev_bCckPSG",
        "colab_type": "code",
        "colab": {
          "base_uri": "https://localhost:8080/",
          "height": 67
        },
        "outputId": "6b8b5811-8dcb-4092-b795-1bd13a598b91"
      },
      "source": [
        "#Training our model by fitting the train test with KNN classifier\n",
        " \n",
        "#We'll set the value of K at 5\n",
        "classifier = KNeighborsClassifier(n_neighbors=5)\n",
        "classifier.fit(X_train, y_train)"
      ],
      "execution_count": 99,
      "outputs": [
        {
          "output_type": "execute_result",
          "data": {
            "text/plain": [
              "KNeighborsClassifier(algorithm='auto', leaf_size=30, metric='minkowski',\n",
              "                     metric_params=None, n_jobs=None, n_neighbors=5, p=2,\n",
              "                     weights='uniform')"
            ]
          },
          "metadata": {
            "tags": []
          },
          "execution_count": 99
        }
      ]
    },
    {
      "cell_type": "code",
      "metadata": {
        "id": "X3xcDY5gkRM0",
        "colab_type": "code",
        "colab": {}
      },
      "source": [
        "#Predicting our test predictors\n",
        "predicted = classifier.predict(X_test)"
      ],
      "execution_count": 100,
      "outputs": []
    },
    {
      "cell_type": "code",
      "metadata": {
        "id": "m9_BFYfUkSuc",
        "colab_type": "code",
        "colab": {
          "base_uri": "https://localhost:8080/",
          "height": 33
        },
        "outputId": "57e10181-9c87-4c42-c8ae-b2347eec63c8"
      },
      "source": [
        "#Evaluating our model using the accuracy score\n",
        "accuracy_score(y_test, predicted)"
      ],
      "execution_count": 101,
      "outputs": [
        {
          "output_type": "execute_result",
          "data": {
            "text/plain": [
              "0.797752808988764"
            ]
          },
          "metadata": {
            "tags": []
          },
          "execution_count": 101
        }
      ]
    },
    {
      "cell_type": "markdown",
      "metadata": {
        "id": "TyAXFsBIk4_n",
        "colab_type": "text"
      },
      "source": [
        "This split also gives us a very low accuracy score of 79.77%, lower than all the models even the baseline model. This is not such a good model according to our metric of success where for a model to be considered a good model we should get an accuracy of more than 80%\n",
        "\n",
        "We can therefore conclude that our models get worse when we further split the training set."
      ]
    },
    {
      "cell_type": "markdown",
      "metadata": {
        "id": "m2VrTW-GlW_L",
        "colab_type": "text"
      },
      "source": [
        "### g.) Model Optimization"
      ]
    },
    {
      "cell_type": "markdown",
      "metadata": {
        "id": "hV03qLnXmjrH",
        "colab_type": "text"
      },
      "source": [
        "We'll optimize the best model i.e. the 80-20 model by changing the distance metric to see if we can improve it's accuracy score."
      ]
    },
    {
      "cell_type": "code",
      "metadata": {
        "id": "KTXHUwfemiL8",
        "colab_type": "code",
        "colab": {}
      },
      "source": [
        "#Training using 80% of the data.\n",
        "X_train, X_test, y_train, y_test = train_test_split(X, y, test_size=0.2, random_state=6) "
      ],
      "execution_count": 105,
      "outputs": []
    },
    {
      "cell_type": "code",
      "metadata": {
        "id": "fFP6Zz05m779",
        "colab_type": "code",
        "colab": {}
      },
      "source": [
        "#Feature Scaling\n",
        "#Before making any actual predictions, we'll scale the features so that all of them can be uniformly evaluated.\n",
        "from sklearn.preprocessing import StandardScaler\n",
        "scaler = StandardScaler()\n",
        "scaler.fit(X_train)\n",
        "\n",
        "X_train = scaler.transform(X_train)\n",
        "X_test = scaler.transform(X_test)"
      ],
      "execution_count": 106,
      "outputs": []
    },
    {
      "cell_type": "code",
      "metadata": {
        "id": "TmsetQAAnyp9",
        "colab_type": "code",
        "colab": {
          "base_uri": "https://localhost:8080/",
          "height": 33
        },
        "outputId": "76d5ab21-d584-407e-9ea7-380a0b9f3e04"
      },
      "source": [
        "#Training our model by fitting the train test with KNN classifier\n",
        "#We'll first use the Minkowski distance\n",
        "classifier = KNeighborsClassifier(n_neighbors = 5, metric='minkowski')\n",
        "classifier.fit(X_train, y_train)\n",
        "#Predicting our test predictors\n",
        "predicted = classifier.predict(X_test)\n",
        "#Evaluating our model using the accuracy score\n",
        "accuracy_score(y_test, predicted)"
      ],
      "execution_count": 107,
      "outputs": [
        {
          "output_type": "execute_result",
          "data": {
            "text/plain": [
              "0.848314606741573"
            ]
          },
          "metadata": {
            "tags": []
          },
          "execution_count": 107
        }
      ]
    },
    {
      "cell_type": "code",
      "metadata": {
        "id": "a1c8ePgwn5fo",
        "colab_type": "code",
        "colab": {
          "base_uri": "https://localhost:8080/",
          "height": 33
        },
        "outputId": "9b47b40d-e0e3-40a0-d1aa-6c305bdc42a7"
      },
      "source": [
        "#Training our model by fitting the train test with KNN classifier\n",
        "#We'll use the Manhattan distance\n",
        "classifier = KNeighborsClassifier(n_neighbors = 5, metric='manhattan')\n",
        "classifier.fit(X_train, y_train)\n",
        "#Predicting our test predictors\n",
        "predicted = classifier.predict(X_test)\n",
        "#Evaluating our model using the accuracy score\n",
        "accuracy_score(y_test, predicted)"
      ],
      "execution_count": 108,
      "outputs": [
        {
          "output_type": "execute_result",
          "data": {
            "text/plain": [
              "0.8370786516853933"
            ]
          },
          "metadata": {
            "tags": []
          },
          "execution_count": 108
        }
      ]
    },
    {
      "cell_type": "code",
      "metadata": {
        "id": "CgW5F5_Un6Fq",
        "colab_type": "code",
        "colab": {
          "base_uri": "https://localhost:8080/",
          "height": 33
        },
        "outputId": "a095cf88-d305-48a9-e325-471559dcb498"
      },
      "source": [
        "#Training our model by fitting the train test with KNN classifier\n",
        "#We'll use the Euclidian distance\n",
        "classifier = KNeighborsClassifier(n_neighbors = 5, metric='euclidean')\n",
        "classifier.fit(X_train, y_train)\n",
        "#Predicting our test predictors\n",
        "predicted = classifier.predict(X_test)\n",
        "#Evaluating our model using the accuracy score\n",
        "accuracy_score(y_test, predicted)"
      ],
      "execution_count": 109,
      "outputs": [
        {
          "output_type": "execute_result",
          "data": {
            "text/plain": [
              "0.848314606741573"
            ]
          },
          "metadata": {
            "tags": []
          },
          "execution_count": 109
        }
      ]
    },
    {
      "cell_type": "markdown",
      "metadata": {
        "id": "jCcMa37gppHB",
        "colab_type": "text"
      },
      "source": [
        "The Minkowski and Euclidean metric distances perform just as good as the 80-20 split without optimization. The Manhattan metric distance however does not perform well hence the other two are the most recommended."
      ]
    },
    {
      "cell_type": "markdown",
      "metadata": {
        "id": "lQ2G4ZPDVOXE",
        "colab_type": "text"
      },
      "source": [
        "## 8. Challenging the solution"
      ]
    },
    {
      "cell_type": "markdown",
      "metadata": {
        "id": "jWVGKGuiYMWg",
        "colab_type": "text"
      },
      "source": [
        "The easy solution is nice because it is, well, easy, but you should never allow those results to hold the day.\n",
        "\n",
        "We'll challenge our KNN Classifier models by tuning the k parameter, we'll use GridSearch to find the best number of neighbours to set at.\n",
        "We already know the best features, the 80-20 split and the Manhattan and Euclidean distances perform the best.\n",
        "\n",
        "We'll then combine the best parameters with the above and see if we can build  a model with a better accuracy score.\n",
        "\n",
        "\n",
        "\n",
        "\n"
      ]
    },
    {
      "cell_type": "code",
      "metadata": {
        "id": "j3x3SXZ4XT_L",
        "colab_type": "code",
        "colab": {
          "base_uri": "https://localhost:8080/",
          "height": 33
        },
        "outputId": "83be465f-c98f-47c7-e900-e5b50c373790"
      },
      "source": [
        "from sklearn.model_selection import GridSearchCV\n",
        "#List Hyperparameters that we want to tune.\n",
        "n_neighbors = list(range(1,30))\n",
        "#Convert to dictionary\n",
        "hyperparameter = dict(n_neighbors=n_neighbors)\n",
        "#Create new KNN object\n",
        "knn = KNeighborsClassifier()\n",
        "#Use GridSearch\n",
        "clf = GridSearchCV(knn, hyperparameter, cv=10)\n",
        "#Fit the model\n",
        "best_model = clf.fit(X_train,y_train)\n",
        "#Print The value of best Hyperparameters\n",
        "print('Best n_neighbors:', best_model.best_estimator_.get_params()['n_neighbors'])"
      ],
      "execution_count": 124,
      "outputs": [
        {
          "output_type": "stream",
          "text": [
            "Best n_neighbors: 4\n"
          ],
          "name": "stdout"
        }
      ]
    },
    {
      "cell_type": "markdown",
      "metadata": {
        "id": "CwbB01YMCA76",
        "colab_type": "text"
      },
      "source": [
        "Tuning our parameter gives us 4 as the best value of k. \n",
        "\n",
        "We'll now build two models using k as 4, split 80-20 and the Euclidean and Minkowski distance respectively."
      ]
    },
    {
      "cell_type": "code",
      "metadata": {
        "id": "EULmbryJs3SF",
        "colab_type": "code",
        "colab": {}
      },
      "source": [
        "#Splitting the independent and dependent variables\n",
        "test_features = train2.columns.to_list()\n",
        "test_features.remove('Survived')\n",
        "\n",
        "X = train2[['Pclass','Sex','Age','Fare']].values\n",
        "y = train2['Survived'].values"
      ],
      "execution_count": 129,
      "outputs": []
    },
    {
      "cell_type": "code",
      "metadata": {
        "id": "28FF-Yzhszz9",
        "colab_type": "code",
        "colab": {}
      },
      "source": [
        "#Training using 80% of the data.\n",
        "X_train, X_test, y_train, y_test = train_test_split(X, y, test_size=0.2, random_state=6) "
      ],
      "execution_count": 130,
      "outputs": []
    },
    {
      "cell_type": "code",
      "metadata": {
        "id": "PMMTD-Q1s9-U",
        "colab_type": "code",
        "colab": {}
      },
      "source": [
        "#Feature Scaling\n",
        "#Before making any actual predictions, we'll scale the features so that all of them can be uniformly evaluated.\n",
        "from sklearn.preprocessing import StandardScaler\n",
        "scaler = StandardScaler()\n",
        "scaler.fit(X_train)\n",
        "\n",
        "X_train = scaler.transform(X_train)\n",
        "X_test = scaler.transform(X_test)"
      ],
      "execution_count": 131,
      "outputs": []
    },
    {
      "cell_type": "code",
      "metadata": {
        "id": "Qjq-rKDVs_ts",
        "colab_type": "code",
        "colab": {
          "base_uri": "https://localhost:8080/",
          "height": 33
        },
        "outputId": "ca671dbd-b1b1-454c-c6be-de383ab300c0"
      },
      "source": [
        "#Training our model by fitting the train test with KNN classifier\n",
        "#We'll first use the Minkowski distance\n",
        "classifier = KNeighborsClassifier(n_neighbors = 4, metric='minkowski')\n",
        "classifier.fit(X_train, y_train)\n",
        "#Predicting our test predictors\n",
        "predicted = classifier.predict(X_test)\n",
        "#Evaluating our model using the accuracy score\n",
        "accuracy_score(y_test, predicted)"
      ],
      "execution_count": 132,
      "outputs": [
        {
          "output_type": "execute_result",
          "data": {
            "text/plain": [
              "0.8426966292134831"
            ]
          },
          "metadata": {
            "tags": []
          },
          "execution_count": 132
        }
      ]
    },
    {
      "cell_type": "code",
      "metadata": {
        "id": "5k8rSzHtvCpj",
        "colab_type": "code",
        "colab": {
          "base_uri": "https://localhost:8080/",
          "height": 33
        },
        "outputId": "47baf9e8-880a-4a74-d642-c1527a7e2369"
      },
      "source": [
        "#Training our model by fitting the train test with KNN classifier\n",
        "#We'll then use the Euclidean distance\n",
        "classifier = KNeighborsClassifier(n_neighbors = 4, metric='euclidean')\n",
        "classifier.fit(X_train, y_train)\n",
        "#Predicting our test predictors\n",
        "predicted = classifier.predict(X_test)\n",
        "#Evaluating our model using the accuracy score\n",
        "accuracy_score(y_test, predicted)"
      ],
      "execution_count": 135,
      "outputs": [
        {
          "output_type": "execute_result",
          "data": {
            "text/plain": [
              "0.8426966292134831"
            ]
          },
          "metadata": {
            "tags": []
          },
          "execution_count": 135
        }
      ]
    },
    {
      "cell_type": "markdown",
      "metadata": {
        "id": "yFzodnY07cfP",
        "colab_type": "text"
      },
      "source": [
        "Using k as 4 gives the same accuracy score for both metrics, however these models do not beat the accuracy of the model with k as 5. Hence that model is still the most recommended one."
      ]
    },
    {
      "cell_type": "markdown",
      "metadata": {
        "id": "DhGqXLiYC9aQ",
        "colab_type": "text"
      },
      "source": [
        "The only set back of this model is that we could not fit the test data set given as it kept giving an error when calculating the accuracy of the model after fitting the given test dataset. The number of samples were inconsistent with our train data hence the fitting was possible but comparing the two, train and test in order to get the accuracy score was very hard to perceive.\n",
        "\n",
        "Therefore, our models are solely built on the given train data and the test data was ignored."
      ]
    },
    {
      "cell_type": "markdown",
      "metadata": {
        "id": "xrmHVMVsVS--",
        "colab_type": "text"
      },
      "source": [
        "## 10. Follow up questions"
      ]
    },
    {
      "cell_type": "markdown",
      "metadata": {
        "id": "HPQviDmNtta8",
        "colab_type": "text"
      },
      "source": [
        "### a). Did we have the right data?"
      ]
    },
    {
      "cell_type": "markdown",
      "metadata": {
        "id": "_NnvTpRJFp0K",
        "colab_type": "text"
      },
      "source": [
        "Yes, we had the right data."
      ]
    },
    {
      "cell_type": "markdown",
      "metadata": {
        "id": "qjFHK1CKty7o",
        "colab_type": "text"
      },
      "source": [
        "### b). Do we need other data to answer our question?"
      ]
    },
    {
      "cell_type": "markdown",
      "metadata": {
        "id": "aLy4F2qYFuS1",
        "colab_type": "text"
      },
      "source": [
        "No, the data given is enough to answer our question."
      ]
    },
    {
      "cell_type": "markdown",
      "metadata": {
        "id": "HSsicSdvt4Zs",
        "colab_type": "text"
      },
      "source": [
        "### c). Did we have the right question?"
      ]
    },
    {
      "cell_type": "markdown",
      "metadata": {
        "id": "zmlKgDaHFy-y",
        "colab_type": "text"
      },
      "source": [
        "Yes, we have the right question."
      ]
    }
  ]
}